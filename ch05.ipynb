{
 "cells": [
  {
   "cell_type": "markdown",
   "metadata": {
    "slideshow": {
     "slide_type": "skip"
    }
   },
   "source": [
    "[![Open In Colab](https://colab.research.google.com/assets/colab-badge.svg)](https://colab.research.google.com/github/SeoulTechPSE/EngMath/blob/master/ch05.ipynb)"
   ]
  },
  {
   "cell_type": "markdown",
   "metadata": {
    "slideshow": {
     "slide_type": "slide"
    }
   },
   "source": [
    "# Chapter 5. Series Solutions of Linear Differential Equations"
   ]
  },
  {
   "cell_type": "markdown",
   "metadata": {
    "slideshow": {
     "slide_type": "fragment"
    }
   },
   "source": [
    "### Contents\n",
    "\n",
    "* Solutions about Ordinary Points\n",
    "* Solutions about Singular Points\n",
    "* Special Functions"
   ]
  },
  {
   "cell_type": "markdown",
   "metadata": {
    "slideshow": {
     "slide_type": "slide"
    }
   },
   "source": [
    "## 5.1 Solutions about Ordinary Points "
   ]
  },
  {
   "cell_type": "markdown",
   "metadata": {
    "slideshow": {
     "slide_type": "fragment"
    }
   },
   "source": [
    "* A power series in $x -a$ is an infinite series of the form\n",
    "  \n",
    "  $\\displaystyle \\sum_{n=0}^\\infty c_n(x -a)^n = c_0 +c_1(x -a) +c_2(x -a)^2 +\\cdots$\n",
    "  \n",
    "  Such a series is also said to be a **power series centered at $a$**"
   ]
  },
  {
   "cell_type": "markdown",
   "metadata": {
    "slideshow": {
     "slide_type": "subslide"
    }
   },
   "source": [
    "* A power series is **convergent** if its sequence of partial sums converges. \n",
    "  \n",
    "  * Convergence of power series can often\n",
    "    be determined by the ratio test. Suppose that $c_n \\neq 0$ for all $n$, and that\n",
    "  \n",
    "    >$\\displaystyle \\lim_{n \\to \\infty} \\left| \\frac{c_{n+1} (x -a)^{n +1}}{c_n (x -a)^n} \\right|\n",
    "       =|x -a| \\lim_{n \\to \\infty} \\left| \\frac{c_{n +1}}{c_n} \\right| =L$\n",
    "     \n",
    "    If $L<1$, the series converges absolutely, if $L>1$, the series diverges, and if $L=1$, the test is inconclusive\n",
    "    \n",
    "  * Every power series has a **radius of convergence**, $R$. If $R>0$, a power series $\\sum_{n=0}^\\infty c_n (x -a)^n$ converges for $|x -a| < R$\n",
    "  \n",
    "  * A function $f$ ia **analytic** at point $a$ if it can be represented by a power series in $x -a$ with a positive radius of convergence \n",
    "  \n",
    "  * Power series can be combined through the operations of addition, multiplication, and division"
   ]
  },
  {
   "cell_type": "markdown",
   "metadata": {
    "slideshow": {
     "slide_type": "subslide"
    }
   },
   "source": [
    "* Consider the linear second-order DE\n",
    "\n",
    "  >$a_2(x) y'' +a_1(x) y' +a_0(x)y = 0,\\;\\;a_2(x)\\neq0$\n",
    "  \n",
    "  * Divide by $a_2(x)$ to put into standard form\n",
    "  \n",
    "    >$y'' +P(x)y' +Q(x)y = 0$\n",
    "    \n",
    "  * Point $x_0$ is an **ordinary point** of the DE if both $P(x)$ and $Q(x)$ are analytic at $x_0$.\n",
    "    A point that is not an ordinary point is a **singular point** of the equation\n",
    "    \n",
    "  * If $x=x_0$ is an ordinary point of the DE, we can always find **two linearly independent solutions** in the form of a power series centered at $x_0$\n",
    "  \n",
    "  * A series solution converges at least on some interval defined by $|x -x_0|<R$, where $R$ is the distance from $x_0$ to the closest singular point\n",
    "  "
   ]
  },
  {
   "cell_type": "markdown",
   "metadata": {
    "slideshow": {
     "slide_type": "subslide"
    }
   },
   "source": [
    "**Example:** $\\text{ }$ Solve $y'' +xy =0$\n",
    "\n",
    "* Since there are no finite singular points, two power series solutions are guaranteed, centered at $0$, convergent for $|x|>\\infty$.\n",
    " \n",
    "* Substituting $y=\\sum_{n=0}^\\infty c_n x^n$ and the second derivative $y''=\\sum_{n=2}^\\infty n(n -1) c_n x^{n -2}$\n",
    "  into the DE gives\n",
    "\n",
    "  >$\n",
    "   \\displaystyle \n",
    "   \\begin{align*}\n",
    "     y'' +xy &= \\sum_{n=2}^\\infty c_n n(n-1) x^{n -2} +\\sum_{n=0}^\\infty c_n x^{n +1}\\\\\n",
    "     &= 2c_2 +\\sum_{k=1}^{\\infty} \\left[(k +1)(k +2) c_{k +2} +c_{k -1} \\right] x^k =0\n",
    "   \\end{align*}\n",
    "  $"
   ]
  },
  {
   "cell_type": "markdown",
   "metadata": {
    "slideshow": {
     "slide_type": "subslide"
    }
   },
   "source": [
    "  The coefficient of each power of $x$ be set equal to zero:\n",
    "  \n",
    "  >$c_2 =0 \\;\\;\\text{and}\\;\\; \\displaystyle c_{k +2} =-\\frac{c_{k -1}}{(k+1)(k+2)}, \\;k=1,2,3,\\cdots$\n",
    "\n",
    "  >${\\small\n",
    "   \\begin{align*}\n",
    "    c_3 &= -\\frac{c_0}{2\\cdot3} \\\\ \n",
    "    c_4 &= -\\frac{c_1}{3\\cdot4} \\\\ \n",
    "    c_5 &= -\\frac{c_2}{4\\cdot5} = 0 \\\\ \n",
    "    c_6 &= -\\frac{c_3}{5\\cdot6} = \\frac{c_0}{2\\cdot3\\cdot5\\cdot6} \\\\ \n",
    "    c_7 &= -\\frac{c_4}{6\\cdot7} = \\frac{c_1}{3\\cdot4\\cdot6\\cdot7}\\\\ \n",
    "    c_8 &= -\\frac{c_5}{7\\cdot8} = 0 \\\\ \n",
    "    &\\;\\;\\vdots\n",
    "  \\end{align*}}\n",
    "  $"
   ]
  },
  {
   "cell_type": "markdown",
   "metadata": {
    "slideshow": {
     "slide_type": "subslide"
    }
   },
   "source": [
    "  After grouping the terms containing $c_0$ and the terms containing $c_1$, we obtain $y = c_0 y_1(x) +c_1 y_2(x)$\n",
    "  \n",
    "  >$\n",
    "  \\begin{align*}\n",
    "    y_1(x) &= 1 +\\sum_{n=1}^\\infty \\frac{(-1)^n}{2\\cdot3 \\cdots (3n -1)(3n)}x^{3n}\\\\ \n",
    "    y_2(x) &= x +\\sum_{n=1}^\\infty \\frac{(-1)^n}{3\\cdot4 \\cdots (3n)(3n +1)}x^{3n +1}\n",
    "  \\end{align*}\n",
    "  $"
   ]
  },
  {
   "cell_type": "markdown",
   "metadata": {
    "slideshow": {
     "slide_type": "subslide"
    }
   },
   "source": [
    "### Exercises 5.1\n",
    "\n",
    "* 1, 3, 9\n",
    "* 15, 17, 19, 29, 31"
   ]
  },
  {
   "cell_type": "markdown",
   "metadata": {
    "slideshow": {
     "slide_type": "slide"
    }
   },
   "source": [
    "## 5.2 Solutions about Singular Points"
   ]
  },
  {
   "cell_type": "markdown",
   "metadata": {
    "slideshow": {
     "slide_type": "fragment"
    }
   },
   "source": [
    "* Consider the linear second-order DE\n",
    "\n",
    "  >$(x -x_0)^2 y'' +(x -x_0) p(x) y' +q(x) y = 0$\n",
    "  \n",
    "  * Point $x_0$ is a **regular singular point** of the DE if both $p(x)$ and $q(x)$ are analytic at $x_0$.\n",
    "  \n",
    "  * A singular point that is not regular is an **irregular singular point** of the equation"
   ]
  },
  {
   "cell_type": "markdown",
   "metadata": {
    "slideshow": {
     "slide_type": "subslide"
    }
   },
   "source": [
    "* To solve a DE about a regular singular point, we employ **Frobenius' Theorem**\n",
    "\n",
    " * If $x_0$ is a regular singular point of the standard DE, there exists **at least one nonzero solution** of the form\n",
    " \n",
    "   >$\\displaystyle y=(x -x_0)^r \\sum_{n=0}^\\infty c_n (x -x_0)^n = \\sum_{n=0}^\\infty c_n (x -x_0)^{n+r}$\n",
    "   \n",
    "   where $r$ is a constant, and the series converges at least on some interval, $0 < x -x_0 < R$\n",
    "   \n",
    "    * After substituting $y =\\sum_{n=0}^\\infty c_n (x -x_0)^{n+r}$ into a DE and simplifying, \n",
    "   the **indicial equation** is obtained, a quadratic equation in $r$ that results from equating the total coefficient of the lowest power of $x$ to zero\n",
    "   \n",
    " * The **indicial roots** are the solutions to the quadratic equation and are then substituted into a recurrence relation"
   ]
  },
  {
   "cell_type": "markdown",
   "metadata": {
    "slideshow": {
     "slide_type": "subslide"
    }
   },
   "source": [
    "  * **Suppose that $x=x_0$ ia a regular singular point of a DE and the indicial roots are $r_1$ and $r_2$**: $\\;r_1 \\geq r_2$ \n",
    "    * **Case I** \n",
    "     \n",
    "     $r_1$ and $r_2$ are distinct and do not differ by an integer, \n",
    "   \n",
    "     >$\n",
    "     \\begin{align*}\n",
    "        y_1(x) &= \\sum_{n=0}^\\infty c_n (x -x_0)^{n +r_1}\\\\ \n",
    "        y_2(x) &= \\sum_{n=0}^\\infty b_n (x -x_0)^{n +r_2}\n",
    "     \\end{align*}\n",
    "     $"
   ]
  },
  {
   "cell_type": "markdown",
   "metadata": {
    "slideshow": {
     "slide_type": "subslide"
    }
   },
   "source": [
    "   * **Case II**\n",
    "   \n",
    "     $r_1 -r_2 = N$, where $N$ is a positive integer,\n",
    "     \n",
    "     >$\\begin{align*}\n",
    "        y_1(x) &= \\sum_{n=0}^\\infty c_n (x -x_0)^{n +r_1}, \\; c_0 \\neq 0\\\\ \n",
    "        y_2(x) &= Cy_1(x)\\ln (x -x_0) +\\sum_{n=0}^\\infty b_n (x -x_0)^{n +r_2}, \\; b_0 \\neq 0\n",
    "     \\end{align*}$\n",
    "        "
   ]
  },
  {
   "cell_type": "markdown",
   "metadata": {
    "slideshow": {
     "slide_type": "subslide"
    }
   },
   "source": [
    "   * **Case III**\n",
    "   \n",
    "     $r_1=r_2$, \n",
    " \n",
    "     >$\n",
    "     \\begin{align*}\n",
    "        y_1(x) &= \\sum_{n=0}^\\infty c_n (x -x_0)^{n +r_1}, \\; c_0 \\neq 0\\\\ \n",
    "        y_2(x) &= y_1(x)\\ln (x -x_0) +\\sum_{n=0}^\\infty b_n (x -x_0)^{n +r_1}\n",
    "     \\end{align*} $"
   ]
  },
  {
   "cell_type": "markdown",
   "metadata": {
    "slideshow": {
     "slide_type": "subslide"
    }
   },
   "source": [
    " **Example:** $\\text{ }$ Solve $\\,2xy'' +(1 +x)y' +y = 0$\n",
    " \n",
    " * Substituting $y = \\sum_{n=0}^\\infty c_n x^{n +r}$ gives\n",
    " \n",
    "   >${\\small\n",
    "   \\begin{align*}\n",
    "    2xy'' &+(1 +x)y' +y \\\\&= 2\\sum_{n=0}^\\infty (n +r)(n +r -1)c_n x^{n +r -1}\n",
    "     +\\sum_{n=0}^\\infty (n +r) c_n x^{n +r -1}\n",
    "     +\\sum_{n=0}^\\infty (n +r) c_n x^{n +r}\n",
    "     +\\sum_{n=0}^\\infty c_n x^{n +r}\\\\ \n",
    "     &= x^r\\left[r(2r -1) c_0 x^{-1} +\\sum_{k=0}^\\infty [(k + r +1)(2k +2r +1) c_{k +1} +(k +r +1) c_k] x^k \\right] = 0\n",
    "   \\end{align*}} \n",
    "   $\n",
    " \n",
    " which implies\n",
    " \n",
    " >$\n",
    " \\begin{align*}\n",
    "   &r(2r -1) = 0\\\\ \n",
    "   &(k + r +1)(2k +2r +1) c_{k +1} +(k +r +1) c_k =0, \\;\\;k=0,1,\\cdots \n",
    " \\end{align*} \n",
    " $"
   ]
  },
  {
   "cell_type": "markdown",
   "metadata": {
    "slideshow": {
     "slide_type": "subslide"
    }
   },
   "source": [
    "* We see that the indicial roots are $r_1=\\frac{1}{2}$ and $r_2=0$\n",
    " \n",
    "  \\begin{align*}\n",
    "    r_1 = \\frac{1}{2}, &\\;\\;c_{k+1} =-\\frac{c_k}{2(k +1)}, \\;k=0,1,2, \\cdots\\, \\\\ \n",
    "    r_2 = 0,\\; &\\;\\;c_{k+1} =-\\frac{c_k}{2k +1}, \\;k=0,1,2, \\cdots \\,\\\\\n",
    "  \\end{align*}"
   ]
  },
  {
   "cell_type": "markdown",
   "metadata": {
    "cell_style": "split",
    "slideshow": {
     "slide_type": "subslide"
    }
   },
   "source": [
    "* For $r_1=\\frac{1}{2}$,\n",
    "\n",
    "  ${\\small\n",
    "  \\begin{align*}\n",
    "    c_1 &= -\\frac{c_0}{2\\cdot1}\\\\ \n",
    "    c_2 &= -\\frac{c_1}{2\\cdot2}=\\frac{c_0}{2^2\\cdot2!}\\\\ \n",
    "    c_3 &= -\\frac{c_2}{2\\cdot3}=\\frac{-c_0}{2^3\\cdot3!}\\\\ \n",
    "    c_4 &= -\\frac{c_3}{2\\cdot4}=\\frac{c_0}{2^4\\cdot4!}\\\\ \n",
    "     &\\;\\vdots \\\\ \n",
    "    c_n &= \\frac{(-1)^n c_0}{2^n n!}\n",
    "  \\end{align*}}  \n",
    "  $  "
   ]
  },
  {
   "cell_type": "markdown",
   "metadata": {
    "cell_style": "split",
    "slideshow": {
     "slide_type": "fragment"
    }
   },
   "source": [
    " \n",
    "* For $r_2=0$,\n",
    "\n",
    "  ${\\small\n",
    "  \\begin{align*}\n",
    "    c_1 &= -\\frac{c_0}{1}\\\\ \n",
    "    c_2 &= -\\frac{c_1}{3}=\\frac{c_0}{1\\cdot3}\\\\ \n",
    "    c_3 &= -\\frac{c_2}{5}=\\frac{-c_0}{1\\cdot3\\cdot5}\\\\ \n",
    "    c_4 &= -\\frac{c_3}{7}=\\frac{c_0}{1\\cdot3\\cdot5\\cdot7}\\\\ &\\;\\vdots \\\\\n",
    "    c_n &= \\frac{(-1)^n c_0}{1\\cdot3\\cdot5\\cdot7\\cdots (2n -1)}\n",
    "  \\end{align*}} \n",
    "  $"
   ]
  },
  {
   "cell_type": "markdown",
   "metadata": {
    "slideshow": {
     "slide_type": "subslide"
    }
   },
   "source": [
    "* The series solutions are\n",
    "\n",
    "  >$\n",
    "  \\begin{align*}\n",
    "    y_1(x) &= x^{1/2} \\left[ 1 +\\sum_{n=1}^\\infty \\frac{(-1)^n}{2^n n!} x^n \\right ]\\\\ \n",
    "    y_2(x) &= 1 +\\sum_{n=1}^\\infty \\frac{(-1)^n}{1\\cdot3\\cdot5\\cdot7\\cdots(2n -1)} x^n\n",
    "  \\end{align*}  \n",
    "  $"
   ]
  },
  {
   "cell_type": "markdown",
   "metadata": {
    "slideshow": {
     "slide_type": "subslide"
    }
   },
   "source": [
    "### Exercises 5.2\n",
    "\n",
    "* 1, 3, 5\n",
    "* 11, 13, 15\n",
    "* 17, 25, 27, 31"
   ]
  },
  {
   "cell_type": "markdown",
   "metadata": {
    "slideshow": {
     "slide_type": "slide"
    }
   },
   "source": [
    "## 5.3 Special Functions"
   ]
  },
  {
   "cell_type": "markdown",
   "metadata": {
    "slideshow": {
     "slide_type": "fragment"
    }
   },
   "source": [
    "The following DEs occur frequently in advanced studies in applied mathematics, physics, and engineering\n",
    "\n",
    "* **Bessel's equation of order $\\nu$**, solutions are **Bessel functions**\n",
    "\n",
    "  >$x^2 y'' +xy' +(x^2 -\\nu^2) y =0$\n",
    "  \n",
    "* **Legendre's equation of order $n$**, solutions are **Legendre functions**\n",
    "\n",
    "  >$(1 -x^2)y'' -2xy' +n(n +1)y =0$"
   ]
  },
  {
   "cell_type": "markdown",
   "metadata": {
    "slideshow": {
     "slide_type": "subslide"
    }
   },
   "source": [
    "### 5.3.1 Bessel Functions"
   ]
  },
  {
   "cell_type": "markdown",
   "metadata": {
    "slideshow": {
     "slide_type": "fragment"
    }
   },
   "source": [
    "Because $x=0$ is a regular singular point of Bessel's equation, there exists at least one solution of the form $y=\\sum_{n=0}^\\infty c_n x^{n +r}$\n",
    "\n",
    ">$\n",
    "\\begin{align*}\n",
    " x^2 y'' &+xy' +(x^2 -\\nu^2)y \\\\&= \\sum_{n=0}^\\infty c_n (n +r)(n +r -1) x^{n +r}  \n",
    "     +\\sum_{n=0}^\\infty c_n (n +r) x^{n +r}\n",
    "     +\\sum_{n=0}^\\infty c_n x^{n +r +2} \n",
    "     -\\nu^2 \\sum_{n=0}^\\infty c_n x^{n +r}\\\\ \n",
    " &= c_0 (r^2 -\\nu^2) x^r +x^r \\sum_{n=1}^\\infty c_n [(n +r)^2 -\\nu^2] x^n +x^r \\sum_{n=0}^\\infty c_n x^{n +2} = 0\n",
    "\\end{align*}\n",
    "$\n"
   ]
  },
  {
   "cell_type": "markdown",
   "metadata": {
    "slideshow": {
     "slide_type": "subslide"
    }
   },
   "source": [
    "The indicial equation is $r^2 -\\nu^2=0$ so that the indicial roots are $r_1=\\nu$ and $r_2=-\\nu$\n",
    "\n",
    "When $\\,r_1=\\nu \\geq 0$,\n",
    "\n",
    ">${\\small\n",
    "\\begin{align*}\n",
    "  x^\\nu \\sum_{n=1}^\\infty &c_n n(n +2\\nu) x^n +x^\\nu \\sum_{n=0}^\\infty c_n x^{n +2} \\\\\n",
    "     &= x^\\nu \\left[ (1 +2\\nu) c_1 x +\\sum_{k=0}^\\infty \\left[(k +2)(k +2 +2\\nu) c_{k+2} \n",
    "     +c_k\\right]x^{k +2} \\right] = 0 \\\\\n",
    "     &\\Downarrow \\\\\n",
    "     c_1 &= 0,\\;\\; c_{k+2} = \\frac{-c_k}{(k +2)(k +2 +2\\nu)}, \\;\\;k=0,1,2,\\cdots \\\\\n",
    "     &\\Downarrow\\\\\n",
    "     c_3&=c_5=c_7=\\cdots=0, \\\\\n",
    "     c_{2n}&=-\\frac{c_{2n -2}}{2^2 n(n +\\nu)}   \n",
    "\\end{align*}}\n",
    "$"
   ]
  },
  {
   "cell_type": "markdown",
   "metadata": {
    "cell_style": "split",
    "slideshow": {
     "slide_type": "subslide"
    }
   },
   "source": [
    "\n",
    "Thus\n",
    "\n",
    ">${\\small\n",
    "\\begin{align*}\n",
    "    c_2 &= -\\frac{c_0}{2^2\\cdot1\\cdot(1 +\\nu)}\\\\ \n",
    "    c_4 &= -\\frac{c_2}{2^2\\cdot2\\cdot(2 +\\nu)} \\\\\n",
    "    &= \\frac{c_0}{2^4 \\cdot 1 \\cdot 2(1 +\\nu)(2 +\\nu)}\\\\ \n",
    "    c_6 &= -\\frac{c_4}{2^2\\cdot3\\cdot(3 +\\nu)} \\\\\n",
    "    &=-\\frac{c_0}{2^6 \\cdot 1 \\cdot 2 \\cdot 3 (1 +\\nu)(2 +\\nu)(3 +\\nu)}\\\\ \n",
    "        &\\;\\vdots \\\\ \n",
    "  c_{2n} &= \\frac{(-1)^n c_0}{2^{2n} n! (1 +\\nu)(2 +\\nu)\\cdots(n +\\nu)}\\\\    \n",
    "\\end{align*}}\n",
    "$"
   ]
  },
  {
   "cell_type": "markdown",
   "metadata": {
    "cell_style": "split",
    "slideshow": {
     "slide_type": "fragment"
    }
   },
   "source": [
    "${\\small\n",
    "\\begin{align*}\n",
    "   &\\;\\Bigg\\Downarrow \\;{\\scriptsize\\text{It is standard practice to choose}}\\; c_0=\\frac{1}{2^\\nu \\Gamma(1 +\\nu)} \\\\ \n",
    "  c_{2n} &= \\frac{(-1)^n}{2^{2n +\\nu} n!\\, \\Gamma(1 +\\nu +n)}\n",
    "  \\end{align*}}\n",
    "$\n",
    "\n",
    "$\\text{ }$\n",
    "\n",
    "**Note:** $\\text{ }$ $\\displaystyle\\Gamma(\\nu)=\\;\\int_0^\\infty x^{\\nu -1} e^{-x} \\,dx$, $\\;\\Gamma(\\nu +1)=\\nu\\Gamma(\\nu)$"
   ]
  },
  {
   "cell_type": "markdown",
   "metadata": {
    "slideshow": {
     "slide_type": "subslide"
    }
   },
   "source": [
    "* **Bessel Functions of the First Kind**\n",
    "\n",
    "  The series solution $y_1=\\sum_{n=0}^\\infty c_{2n} x^{2n +\\nu}$ is usually denoted by $J_\\nu(x)$\n",
    "  \n",
    "  >$\\displaystyle J_\\nu(x)=\\sum_{n=0}^\\infty \\frac{(-1)^n}{n!\\, \\Gamma(1 +\\nu +n)} \\left( \\frac{x}{2} \\right)^{2n +\\nu}$\n",
    "  \n",
    "  Also, for the second exponent $r_2=-\\nu$\n",
    "  \n",
    "  >$\\displaystyle J_{-\\nu}(x)=\\sum_{n=0}^\\infty \\frac{(-1)^n}{n!\\, \\Gamma(1 -\\nu +n)} \\left( \\frac{x}{2} \\right)^{2n -\\nu}$"
   ]
  },
  {
   "cell_type": "markdown",
   "metadata": {
    "slideshow": {
     "slide_type": "subslide"
    }
   },
   "source": [
    " \n",
    "   * When $\\nu=0$, $J_0(x)$\n",
    "    \n",
    "   * When $r_1 -r_2 = 2\\nu$ is not positive integer, $J_\\nu(x)$ and $J_{-\\nu}(x)$ are linearly independent \n",
    "    \n",
    "   * When $r_1 -r_2 = 2\\nu$ is positive integer, there are two possibilities\n",
    "    \n",
    "     * When $\\nu = m =$ positive integer, $J_{-m}(x)$ is a constant multiple of $J_m(x)$\n",
    "      \n",
    "     * When $\\nu$ is half an odd positive integer, $J_\\nu(x)$ and $J_{-\\nu}(x)$ are linearly independent \n",
    "      \n",
    " $\\text{ }$\n",
    " \n",
    " **Example:** $\\text{ }$ Solve $x^2y'' +xy' +(x^2 -\\frac{1}{4})y=0$\n",
    "  "
   ]
  },
  {
   "cell_type": "markdown",
   "metadata": {
    "slideshow": {
     "slide_type": "subslide"
    }
   },
   "source": [
    "* **Bessel Functions of the Second Kind**\n",
    "\n",
    "  If $\\nu \\neq$ integer\n",
    "  \n",
    "  >$\\displaystyle Y_\\nu(x)=\\frac{\\cos \\nu \\pi J_\\nu(x) -J_{-\\nu}(x)}{\\sin \\nu \\pi}$\n",
    "  \n",
    "  $J_\\nu(x)$ and $Y_\\nu(x)$ are linearly independent solutions of $x^2 y'' +xy' +(x^2 -\\nu^2) y =0$\n",
    "  \n",
    "  As $\\nu \\rightarrow m\\,(\\text{an integer})$,\n",
    "  \n",
    "  >$\\displaystyle Y_m(x)=\\lim_{\\nu \\to m} Y_\\nu(x)$\n",
    "  \n",
    "  $J_m(x)$ and $Y_m(x)$ are linearly independent solutions of $x^2 y'' +xy' +(x^2 -m^2) y =0$. "
   ]
  },
  {
   "cell_type": "markdown",
   "metadata": {
    "slideshow": {
     "slide_type": "subslide"
    }
   },
   "source": [
    "  Hence for *any* value of $\\nu$, the general solution of Bessel equation can be written as\n",
    "  \n",
    "  >$y=c_1 J_\\nu(x) +c_2 Y_\\nu(x)$\n",
    "  \n",
    "  $Y_\\nu(x)$ is called the **Bessel function of the second kind** of order $\\nu$ \n",
    "\n",
    "$\\text{ }$\n",
    "\n",
    "  **Example:** $\\text{ }$ Solve $x^2y'' +xy' +(x^2 -9)y=0$"
   ]
  },
  {
   "cell_type": "markdown",
   "metadata": {
    "slideshow": {
     "slide_type": "subslide"
    }
   },
   "source": [
    "* **DEs Solvable in Terms of Bessel Functions**\n",
    "\n",
    "  * **Parametric Bessel equation of order $\\nu$**\n",
    "  \n",
    "    >$\n",
    "    \\begin{align*}\n",
    "      x^2 y'' +x y' &+(\\alpha^2 x^2 -\\nu^2) y = 0 \\\\ \n",
    "      &\\;\\Big\\Downarrow \\;t=\\alpha x, \\;\\alpha>0 \\\\\n",
    "      t^2\\frac{d^2y}{dt^2} +t\\frac{dy}{dt} &+(t^2 -\\nu^2)y = 0 \\\\\n",
    "      &\\Downarrow \\\\\n",
    "      y = c_1 J_\\nu(\\alpha x) &+c_2 Y_\\nu(\\alpha x)\n",
    "    \\end{align*}\n",
    "    $\n",
    "  "
   ]
  },
  {
   "cell_type": "markdown",
   "metadata": {
    "slideshow": {
     "slide_type": "subslide"
    }
   },
   "source": [
    "  * Modified Bessel equation of order $\\nu$\n",
    "  \n",
    "    >$\n",
    "    \\begin{align*}\n",
    "      x^2 y'' +x y' &-(x^2 +\\nu^2) y = 0 \\\\ \n",
    "      &\\;\\Big\\Downarrow \\;t=ix \\\\\n",
    "      t^2\\frac{d^2y}{dt^2} +t\\frac{dy}{dt} &+(t^2 -\\nu^2)y = 0 \\\\\n",
    "      &\\;\\Big\\Downarrow \\;I_\\nu(x)=i^{-\\nu} J_\\nu(ix), \n",
    "      \\;K_\\nu(x)=\\frac{\\pi}{2}\\frac{I_{-\\nu}(x) -I_{\\nu}(x)}{\\sin\\nu\\pi}, \\;K_m(x)=\\lim_{\\nu\\to m} K_\\nu(x) \\\\\n",
    "      y = c_1 I_\\nu(x) &+c_2 K_\\nu(x)\n",
    "    \\end{align*}\n",
    "    $"
   ]
  },
  {
   "cell_type": "markdown",
   "metadata": {
    "slideshow": {
     "slide_type": "subslide"
    }
   },
   "source": [
    "    \n",
    "  * Yet another equation\n",
    "  \n",
    "    >${\\small\n",
    "     \\begin{align*}\n",
    "       y'' +\\frac{1 -2a}{x} y' &+\\left( b^2 c^2 x^{2c -2} +\\frac{a^2 -p^2 c^2}{x^2}\\right)y=0, \\;p \\geq 0 \\\\ \n",
    "       &\\Bigg\\Downarrow \\;z=bx^c, \\;y(x)=\\left( \\frac{z}{b} \\right )^{a/c} w(z)\\\\ \n",
    "       y=x^a &\\left[c_1 J_p(bx^c) +c_2 Y_p(bx^c)\\right] \n",
    "     \\end{align*}}\n",
    "    $\n",
    "     \n",
    "  * The aging spring\n",
    "  \n",
    "    >${\\small\n",
    "     \\begin{align*}\n",
    "       m\\ddot{x} &+ke^{-\\alpha t}x = 0, \\;\\alpha > 0 \\\\ \n",
    "       &\\,\\Bigg\\Downarrow \\;s = \\frac{2}{\\alpha} \\sqrt{\\frac{k}{m}} e^{-\\alpha t/2}\\\\ \n",
    "       s^2 \\frac{d^2 x}{ds^2} &+s\\frac{dx}{ds} +s^2 x = 0\n",
    "     \\end{align*}}\n",
    "    $ "
   ]
  },
  {
   "cell_type": "markdown",
   "metadata": {
    "slideshow": {
     "slide_type": "subslide"
    }
   },
   "source": [
    "* **Properties** $\\text{ }$ when $m$ is integer\n",
    "\n",
    "  * $J_{-m}(x)=(-1)^m J_m(x)$\n",
    "\n",
    "  * $J_{m}(-x)=(-1)^m J_m(x)$\n",
    "\n",
    "  * $J_m(0)=\\left\\{\\begin{matrix} 0, & m > 0\\\\ 1, & m = 0 \\end{matrix}\\right.$\n",
    "             \n",
    "  * $\\displaystyle\\lim_{x \\to 0^+} Y_m(x)=-\\infty$            "
   ]
  },
  {
   "cell_type": "code",
   "execution_count": null,
   "metadata": {
    "slideshow": {
     "slide_type": "subslide"
    }
   },
   "outputs": [],
   "source": [
    "%run ./codes/ch05_code1.ipynb"
   ]
  },
  {
   "cell_type": "markdown",
   "metadata": {
    "slideshow": {
     "slide_type": "subslide"
    }
   },
   "source": [
    "* **Differential Recurence Relation**\n",
    "\n",
    "  >$\n",
    "  \\begin{align*}\n",
    "     xJ_\\nu'(x)&= \\sum_{n=0}^\\infty \\frac{(-1)^n(2n +\\nu)}{n! \\, \\Gamma(1 +\\nu +n)} \n",
    "     \\left( \\frac{x}{2}\\right )^{2n +\\nu}\\\\ \n",
    "     &= \\nu \\sum_{n=0}^\\infty \\frac{(-1)^n}{n! \\, \\Gamma(1 +\\nu +n)} \\left( \\frac{x}{2}\\right )^{2n +\\nu}\n",
    "     +x\\sum_{n=1}^\\infty \\frac{(-1)^n}{(n -1)! \\, \\Gamma(1 +\\nu +n)} \\left( \\frac{x}{2}\\right )^{2n +\\nu -1}\\\\ \n",
    "     &= \\nu J_\\nu(x) -x\\sum_{k=0}^\\infty \\frac{(-1)^k}{k! \\, \\Gamma(2 +\\nu +k)} \n",
    "     \\left( \\frac{x}{2}\\right )^{2k +\\nu +1}\\\\ \n",
    "     &= \\nu J_\\nu(x) -x J_{\\nu+1}(x)\\\\ \n",
    "     &\\;\\big\\Downarrow\\;\\times x^{-\\nu -1} \\\\\n",
    "     \\frac{d}{dx} [x^{-\\nu}J_\\nu(x)]&=-x^{-\\nu} J_{\\nu+1}(x)\n",
    "  \\end{align*}  \n",
    "  $"
   ]
  },
  {
   "cell_type": "markdown",
   "metadata": {
    "slideshow": {
     "slide_type": "subslide"
    }
   },
   "source": [
    " \n",
    "  and\n",
    "  \n",
    "  >$\n",
    "  \\begin{align*}\n",
    "     xJ_\\nu'(x)&= -\\nu J_\\nu(x) +x J_{\\nu -1}(x)\\\\ \n",
    "     &\\;\\big\\Downarrow\\;\\times x^{\\nu -1} \\\\\n",
    "     \\frac{d}{dx} [x^{\\nu}J_\\nu(x)]&=x^{\\nu} J_{\\nu -1}(x)\n",
    "  \\end{align*}  \n",
    "  $ \n",
    " \n",
    "$\\text{ }$ \n",
    " \n",
    "  **Example:** $\\text{ }$ $J_0'(x)=-J_1(x)$"
   ]
  },
  {
   "cell_type": "markdown",
   "metadata": {
    "slideshow": {
     "slide_type": "subslide"
    }
   },
   "source": [
    "* **Spherical Bessel Functions:** \n",
    "\n",
    "  When solving the Helmholtz equation in spherical coordinates by separation of variables, the radial equation has the form\n",
    "  \n",
    "  >$\\displaystyle x^2 y'' +2xy' +\\left(x^2 -n(n+1)\\right)y=0$\n",
    "  \n",
    "  The two linearly independent solutions to this equation are called the spherical Bessel functions $j_n$ and $y_n$\n",
    "   \n",
    "  >$\\displaystyle j_n(x)=\\sqrt{\\frac{\\pi}{2x}} J_{n +\\frac{1}{2}}(x)$ \n",
    "  \n",
    "  >$\\displaystyle y_n(x)=\\sqrt{\\frac{\\pi}{2x}} Y_{n +\\frac{1}{2}}(x)=(-1)^{n +1}\\sqrt{\\frac{\\pi}{2x}} J_{-n -\\frac{1}{2}}(x)$ \n",
    "\n",
    "  when $\\nu=n +\\frac{1}{2}$ is half an odd integer, that is, $\\pm\\frac{1}{2}$, $\\pm\\frac{3}{2}$,   $\\pm\\frac{5}{2}$, $\\cdots$\n"
   ]
  },
  {
   "cell_type": "markdown",
   "metadata": {
    "slideshow": {
     "slide_type": "subslide"
    }
   },
   "source": [
    "  Let's consider the case when $\\nu=\\frac{1}{2}$,\n",
    "\n",
    "  >$\\displaystyle J_{1/2}(x)=\\sum_{n=0}^\\infty \\frac{(-1)^n}{n!\\, \\Gamma(1 +\\frac{1}{2} +n)} \\left( \\frac{x}{2} \\right)^{2n +1/2}$\n",
    "\n",
    "  where\n",
    "\n",
    "  >${\\tiny\n",
    "\\begin{align*}\n",
    " \\Gamma\\left(\\frac{1}{2} \\right ) &= \\sqrt{\\pi}\\\\\n",
    " \\Gamma\\left(\\frac{3}{2} \\right ) &= \\Gamma\\left(1 +\\frac{1}{2} \\right ) \n",
    "    = \\frac{1}{2}\\Gamma\\left(\\frac{1}{2} \\right )=\\frac{1}{2} \\sqrt{\\pi}\\\\ \n",
    " \\Gamma\\left(\\frac{5}{2} \\right ) &= \\Gamma\\left(1 +\\frac{3}{2} \\right ) \n",
    "    = \\frac{3}{2}\\Gamma\\left(\\frac{3}{2} \\right )=\\frac{3}{2^2} \\sqrt{\\pi} \n",
    "    = \\frac{3\\cdot2}{2^3} \\sqrt{\\pi} = \\frac{3!}{2^3} \\sqrt{\\pi}\\\\\n",
    " \\Gamma\\left(\\frac{7}{2} \\right ) &= \\Gamma\\left(1 +\\frac{5}{2} \\right ) \n",
    "    = \\frac{5}{2}\\Gamma\\left(\\frac{5}{2} \\right ) = \\frac{5\\cdot3}{2^3} \\sqrt{\\pi}\n",
    "    = \\frac{5\\cdot4\\cdot3\\cdot2}{2^3\\cdot4\\cdot2} \\sqrt{\\pi} = \\frac{5!}{2^5 2!} \\sqrt{\\pi}\\\\ \n",
    " \\Gamma\\left(\\frac{9}{2} \\right ) &= \\Gamma\\left(1 +\\frac{7}{2} \\right ) \n",
    "    = \\frac{7}{2}\\Gamma\\left(\\frac{7}{2} \\right ) = \\frac{7\\cdot5!}{2^6 2!} \\sqrt{\\pi}\n",
    "    = \\frac{7\\cdot6\\cdot5!}{2^6 \\cdot6\\cdot2!} \\sqrt{\\pi} = \\frac{7!}{2^7 3!} \\sqrt{\\pi}\\\\ \n",
    " &\\;\\vdots \\\\ \n",
    " \\Gamma\\left(1 +\\frac{1}{2} +n \\right ) &= \\frac{(2n +1)!}{2^{2n +1} n!} \\sqrt{\\pi}\n",
    "\\end{align*}}\n",
    "  $"
   ]
  },
  {
   "cell_type": "markdown",
   "metadata": {
    "slideshow": {
     "slide_type": "skip"
    }
   },
   "source": [
    "> [Evaluation of $\\text{ }\\Gamma(1/2)$](https://www.youtube.com/watch?v=XAoe4th0F1k)"
   ]
  },
  {
   "cell_type": "markdown",
   "metadata": {
    "slideshow": {
     "slide_type": "subslide"
    }
   },
   "source": [
    "  Hence\n",
    "\n",
    "  >$\\displaystyle J_{1/2}(x)=\\sum_{n=0}^\\infty \\frac{(-1)^n}{n!\\, \\frac{(2n +1)!}{2^{2n +1} n!} \\sqrt{\\pi}} \\left( \\frac{x}{2} \\right)^{2n +1/2} = \\sqrt{\\frac{2}{\\pi x}}\\sum_{n=0}^\\infty \\frac{(-1)^n}{(2n +1)!} x^{2n +1} \n",
    "=\\sqrt{\\frac{2}{\\pi x}}\\sin x$\n",
    "\n",
    "  Show that\n",
    "\n",
    "  >$\\displaystyle J_{-1/2}(x)=\\sqrt{\\frac{2}{\\pi x}}\\cos x$"
   ]
  },
  {
   "cell_type": "code",
   "execution_count": null,
   "metadata": {
    "slideshow": {
     "slide_type": "subslide"
    }
   },
   "outputs": [],
   "source": [
    "%run ./codes/ch05_code2.ipynb"
   ]
  },
  {
   "cell_type": "markdown",
   "metadata": {
    "slideshow": {
     "slide_type": "subslide"
    }
   },
   "source": [
    "### 5.3.2 Legendre Functions"
   ]
  },
  {
   "cell_type": "markdown",
   "metadata": {
    "slideshow": {
     "slide_type": "subslide"
    }
   },
   "source": [
    "Since $x=0$ is an ordinary point of Legendre's equation, we substitute the series $y=\\sum_{j=0}^\\infty c_j x^j$ to get\n",
    "\n",
    ">$\n",
    "\\begin{align*}\n",
    "(1 -x^2)y'' -2xy' +n(n +1)y &= [n(n+1)c_0 +2c_2] +[(n -1)(n +2)c_1 +6c_3]x \\\\\n",
    "     &+\\sum_{j=2}^\\infty [(j +2)(j +1) c_{j +2} +(n -j)(n +j +1)c_j] x^j = 0\\\\ \n",
    " &\\Downarrow \\\\ \n",
    " c_2&= -\\frac{n(n+1)}{2} c_0\\\\ \n",
    " c_3&= -\\frac{(n -1)(n +2)}{6} c_1\\\\\n",
    " c_{j +2} &=-\\frac{(n -j)(n +j +1)}{(j +2)(j +1)} c_j, \\;\\; j=2,3,4,\\cdots\n",
    "\\end{align*}\n",
    "$"
   ]
  },
  {
   "cell_type": "markdown",
   "metadata": {
    "slideshow": {
     "slide_type": "subslide"
    }
   },
   "source": [
    "The recurrence relation yields\n",
    "\n",
    ">${\\small\n",
    "\\begin{align*}\n",
    " c_2&= -\\frac{n(n+1)}{2!} c_0\\\\ \n",
    " c_4&= -\\frac{(n -2)(n +3)}{4\\cdot3}c_2=\\frac{(n -2)n(n+1)(n +3)}{4!} c_0\\\\ \n",
    " c_6&= -\\frac{(n -4)(n +5)}{6\\cdot5}c_4=-\\frac{(n -4)(n -2)n(n+1)(n +3)(n +5)}{6!} c_0\\\\ \n",
    "  &\\;\\,\\vdots\n",
    "\\end{align*}}\n",
    "$\n",
    "\n",
    ">${\\small\n",
    "\\begin{align*}\n",
    " c_3&= -\\frac{(n -1)(n+2)}{3!} c_1\\\\ \n",
    " c_5&= -\\frac{(n -3)(n +4)}{5\\cdot4}c_3=\\frac{(n -3)(n -1)(n+2)(n +4)}{5!} c_1\\\\ \n",
    " c_7&= -\\frac{(n -5)(n +6)}{7\\cdot6}c_5=-\\frac{(n -5)(n -3)(n -1)(n+2)(n +4)(n +6)}{7!} c_1\\\\ \n",
    "  &\\;\\,\\vdots\n",
    "\\end{align*}}\n",
    "$\n"
   ]
  },
  {
   "cell_type": "markdown",
   "metadata": {
    "slideshow": {
     "slide_type": "subslide"
    }
   },
   "source": [
    "Thus for at least $|x|<1$, we obtain two linearly independent power series solutions:\n",
    "\n",
    ">$\\displaystyle{\\scriptsize\n",
    "   y_1(x) = c_0 \\left[1 -\\frac{n(n+1)}{2!} x^2 +\\frac{(n -2)n(n+1)(n +3)}{4!} x^4 \n",
    "          -\\frac{(n -4)(n -2)n(n+1)(n +3)(n +5)}{6!} x^6 \\cdots \\right]\n",
    " }$\n",
    "\n",
    ">$\\displaystyle{\\scriptsize\n",
    "y_2(x) = c_1 \\left[x -\\frac{(n -1)(n+2)}{3!} x^3 +\\frac{(n -3)(n -1)(n+2)(n +4)}{5!} x^5 \n",
    " -\\frac{(n -5)(n -3)(n -1)(n+2)(n +4)(n +6)}{7!} x^7 \\cdots \\right]}$\n",
    "\n",
    "* If $n$ is an even integer, the series $y_1(x)$ reduces to a polynomial of degree $n$ with only even powers of $x$ and the series $y_2(x)$ diverges. \n",
    "\n",
    "* If $n$ is an odd integer, the series $y_2(x)$ reduces to a polynomial of degree $n$ with only odd powers of $x$ and the series $y_1(x)$ diverges. \n",
    "\n",
    "* The general solution for an integer $n$ is then given by the **polynomials**."
   ]
  },
  {
   "cell_type": "markdown",
   "metadata": {
    "slideshow": {
     "slide_type": "subslide"
    }
   },
   "source": [
    "For example, if $n=4$, then\n",
    "\n",
    ">$\n",
    "y_1(x) = c_0 \\left[1 -\\frac{4\\cdot5}{2!} x^2 +\\frac{2\\cdot4\\cdot5\\cdot7}{4!} x^4 \\right]\n",
    " = c_0 \\left[1 -10x^2 +\\frac{35}{3} x^4 \\right]\n",
    "$\n",
    "\n",
    "It is traditional to choose\n",
    "specific values for $c_0$ or $c_1$, depending on whether $n$ is an even or odd positive integer, respectively.\n",
    "\n",
    "* For $n=0$, $c_0=1$, and for $n=2,4,6,\\cdots$, $\\text{ }\\displaystyle c_0=(-1)^{n/2} \\frac{1\\cdot 3\\cdots (n -1)}{2 \\cdot 4 \\cdots n}$\n",
    "  \n",
    "* For $n=1$, $c_1=1$, and for $n=3,5,7,\\cdots$, $\\text{ }\\displaystyle c_1=(-1)^{(n -1)/2} \\frac{1\\cdot 3\\cdots n}{2 \\cdot 4 \\cdots (n -1)}$ \n",
    "  \n",
    "For example, when $n=4$, we have\n",
    "\n",
    ">$\n",
    "y_1(x) = (-1)^{4/2} \\frac{1\\cdot3}{2\\cdot4} \\left[1 -10x^2 +\\frac{35}{3} x^4 \\right]\n",
    "  =\\frac{1}{8} (35x^4 -30x^2 +3)\n",
    "$  "
   ]
  },
  {
   "cell_type": "markdown",
   "metadata": {
    "slideshow": {
     "slide_type": "subslide"
    }
   },
   "source": [
    "* **Legendre Polynomials**\n",
    "\n",
    "  There specific $n$-th degree polynomials are called **Legendre polynomials** and denoted by $P_n(x)$\n",
    "\n",
    "  >$\n",
    "  \\begin{align*}\n",
    "    P_0(x) &= 1\\\\ \n",
    "    P_1(x) &= x\\\\ \n",
    "    P_2(x) &= \\frac{1}{2}(3x^2 -1)\\\\ \n",
    "    P_3(x) &= \\frac{1}{2}(5x^3-3x)\\\\ \n",
    "    P_4(x) &= \\frac{1}{8}(35x^4 -30x^2 +3)\\\\\n",
    "    P_5(x) &= \\frac{1}{8}(63x^5 -70x^3 +15x)\n",
    "  \\end{align*}\n",
    "  $"
   ]
  },
  {
   "cell_type": "code",
   "execution_count": null,
   "metadata": {
    "slideshow": {
     "slide_type": "subslide"
    }
   },
   "outputs": [],
   "source": [
    "%run ./codes/ch05_code3.ipynb"
   ]
  },
  {
   "cell_type": "markdown",
   "metadata": {
    "slideshow": {
     "slide_type": "subslide"
    }
   },
   "source": [
    "* **Properties**\n",
    "\n",
    "  * $P_n(-x)=(-1)^n P_n(x)$\n",
    "  * $P_n(1)=1$\n",
    "  * $P_n(-1)=(-1)^n$\n",
    "  * $P_n(0)=0$, $n$ odd\n",
    "  * $P_n'(0)=0$, $n$ even"
   ]
  },
  {
   "cell_type": "markdown",
   "metadata": {
    "slideshow": {
     "slide_type": "subslide"
    }
   },
   "source": [
    "* **Rodrigues' Formula**\n",
    "\n",
    "    The Legendre polynomials can also be represented using **Rodrigues’ Formula**,\n",
    "\n",
    "    >$\\displaystyle P_n(x)=\\frac{1}{2^n n!} \\frac{d^n}{dx^n} \\left(x^2 -1\\right)^n,\\;(\\text{RF})$\n",
    "\n",
    "    This can be demonstrated through the following observations\n",
    "\n",
    "    * The right hand side of (RF) is a $n$-th order polynomial\n",
    "\n",
    "    * Treating $\\left(x^2 -1\\right)^n = (x -1)^n (x + 1)^n$ as a product and using Leibnitz’ rule to differentiate $n$ times, we have\n",
    "    \n",
    "    >$\\displaystyle\\frac{d^n}{dx^n} (x -1)^n (x +1)^n = n!(x+1)^n + \\text{terms with } (x -1) \\text{ as a factor}$\n",
    "    \n",
    "    so that $\\displaystyle P_n(1) = \\frac{n! 2^n}{2^n n!} =1$"
   ]
  },
  {
   "cell_type": "markdown",
   "metadata": {
    "slideshow": {
     "slide_type": "subslide"
    }
   },
   "source": [
    "  \n",
    "   * Since, if $h(x) = \\left(1 -x^2\\right)^n$, then $h'(x) = -2nx(1 -x^2)^{n-1}$, so that\n",
    "\n",
    "    >$\\left(1 -x^2\\right)h' + 2nxh = 0$\n",
    "    \n",
    "   Now differentiate $n +1$ times, using Leibnitz, to get\n",
    "    \n",
    "   >$\n",
    "   \\displaystyle \n",
    "   \\begin{align*}\n",
    "      \\left(1 -x^2\\right)h^{n +2} &-2(n +1)x h^{n +1} -2\\frac{(n + 1)n}{2} h^n + 2nxh^{n +1} + 2n(n + 1)h^n = 0 \\\\\n",
    "      &\\Downarrow\\\\\n",
    "      \\left(1 -x^2\\right)h^{n +2} &-2x h^{n +1} +n(n +1) h^n = 0\n",
    "   \\end{align*}\n",
    "   $\n",
    "\n",
    "   As the equation is linear and $P_n(x) \\propto h^n(x)$, $P_n(x)$ satisfies the Legendre equation of order $n$\n",
    "    \n",
    "   >$\\left(1 -x^2\\right) P_n''(x) -2x P_n'(x) +n(n +1) P_n(x) = 0$"
   ]
  },
  {
   "cell_type": "markdown",
   "metadata": {
    "slideshow": {
     "slide_type": "subslide"
    }
   },
   "source": [
    "* **Integral Relations**\n",
    "\n",
    "  $\\text{ }$\n",
    "\n",
    "  * $\\displaystyle\n",
    "    \\int_{-1}^1 P_k(x) P_l(x) \\,dx = \\delta_{k,l} \\frac{2}{2l +1},\\;\\;k \\leq l$\n",
    "   \n",
    "  * $\\displaystyle\n",
    "    \\int_{-1}^1 x P_s(x) P_r(x) \\,dx = \\delta_{r,s +1} \\frac{2r}{(2r -1)(2r +1)}, \\; r \\geq s $ \n",
    "    \n",
    "[![Open In Colab](https://colab.research.google.com/assets/colab-badge.svg)](https://colab.research.google.com/github/SeoulTechPSE/EngMath/blob/master/supplements/LegendrePolynomials_IntegralRelations.ipynb)"
   ]
  },
  {
   "cell_type": "markdown",
   "metadata": {
    "slideshow": {
     "slide_type": "subslide"
    }
   },
   "source": [
    "* **Recurrence Relation**\n",
    "\n",
    "  The Legendre polynomials satisfy the following recurrence relation\n",
    "\n",
    "  >$(n + 1) P_{n +1}(x) = (2n + 1) x P_n(x) -n P_{n -1}(x)$\n",
    "  \n",
    "  Consider the polynomial $x P_n(x)$. It has degree $n +1$ and is thus in the linear span\n",
    "  of $P_0, \\cdots, P_{n +1}$. We can hence write $x P_n(x)$ as a linear combination of the first $n +2$\n",
    "  Legendre polynomials:\n",
    "  \n",
    "  >$\n",
    "   xP_n(x) = c_0 P_0(x) +c_1 P_1(x) +\\cdots +c_{n +1}P_{n +1}(x)\n",
    "  $\n",
    "  \n",
    "  Thus\n",
    "  \n",
    "  >$\n",
    "   \\displaystyle\n",
    "   \\int_{-1}^1 x P_n(x) P_k(x)\\,dx = c_k \\int_{-1}^1 P_k^2(x)\\, dx \n",
    "   \\rightarrow c_k=\\frac{2k +1}{2} \\int_{-1}^1 x P_n(x) P_k(x)\\,dx\n",
    "  $"
   ]
  },
  {
   "cell_type": "markdown",
   "metadata": {
    "slideshow": {
     "slide_type": "subslide"
    }
   },
   "source": [
    "  \n",
    "  These integrals vanish unless $k = n \\pm 1$ and for this case, we can use\n",
    "   \n",
    "  >$\n",
    "   \\displaystyle\n",
    "   c_{n -1}=\\frac{2n -1}{2} \\int_{-1}^1 x P_n(x) P_{n -1}(x)\\,dx=\\frac{n}{2n +1}\n",
    "  $\n",
    "   \n",
    "  >$\n",
    "   \\displaystyle\n",
    "   c_{n +1}=\\frac{2n +3}{2} \\int_{-1}^1 x P_n(x) P_{n +1}(x)\\,dx=\\frac{n +1}{2n +1}\n",
    "  $\n",
    "   \n",
    "  Hence\n",
    "\n",
    "  >$\n",
    "   \\displaystyle\n",
    "   xP_n(x) = c_{n -1} P_{n -1}(x) +c_{n +1}P_{n +1}(x)=\\frac{n}{2n +1}P_{n -1}(x)+\\frac{n +1}{2n +1}P_{n +1}(x)\n",
    "  $\n",
    "  \n",
    "  This is what we wanted to prove"
   ]
  },
  {
   "cell_type": "markdown",
   "metadata": {
    "slideshow": {
     "slide_type": "subslide"
    }
   },
   "source": [
    "### Exercises 5.3\n",
    "\n",
    "* 1, 3, 5\n",
    "* 7, 9, 11, 13\n",
    "* 21, 22, 23\n",
    "* 27, 28, 29, 30\n",
    "* 33, 38, 41\n",
    "* 51, 52, 53, 54"
   ]
  }
 ],
 "metadata": {
  "celltoolbar": "Slideshow",
  "kernelspec": {
   "display_name": "Python 3",
   "language": "python",
   "name": "python3"
  },
  "language_info": {
   "codemirror_mode": {
    "name": "ipython",
    "version": 3
   },
   "file_extension": ".py",
   "mimetype": "text/x-python",
   "name": "python",
   "nbconvert_exporter": "python",
   "pygments_lexer": "ipython3",
   "version": "3.8.5"
  }
 },
 "nbformat": 4,
 "nbformat_minor": 4
}
