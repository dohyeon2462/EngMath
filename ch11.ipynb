{
 "cells": [
  {
   "cell_type": "markdown",
   "metadata": {
    "slideshow": {
     "slide_type": "skip"
    }
   },
   "source": [
    "<a href=\"https://colab.research.google.com/github/SeoulTechPSE/EngMath/blob/master/ch11.ipynb\" target=\"_parent\"><img src=\"https://colab.research.google.com/assets/colab-badge.svg\" alt=\"Open In Colab\"/></a>"
   ]
  },
  {
   "cell_type": "markdown",
   "metadata": {
    "slideshow": {
     "slide_type": "slide"
    }
   },
   "source": [
    "# Chapter 11. Systems of Nonlinear Differential Equations"
   ]
  },
  {
   "cell_type": "markdown",
   "metadata": {
    "slideshow": {
     "slide_type": "fragment"
    }
   },
   "source": [
    "### Contents\n",
    "\n",
    "* Autonomous Systems\n",
    "* Stability of Linear Systems\n",
    "* Linearization and Local Stability\n",
    "* Autonomous Systems as Mathematical Models\n",
    "* Periodic Solutions, Limit Cycles, and Global Stability"
   ]
  },
  {
   "cell_type": "markdown",
   "metadata": {
    "slideshow": {
     "slide_type": "slide"
    }
   },
   "source": [
    "## 11.1 Autonomous Systems"
   ]
  },
  {
   "cell_type": "markdown",
   "metadata": {
    "slideshow": {
     "slide_type": "fragment"
    }
   },
   "source": [
    "A system of first-order differential equations is called **autonomous** when the system can be written in the form\n",
    "\n",
    ">$\n",
    "\\begin{align*}\n",
    " \\frac{dx_1}{dt} &=g_1(x_1,x_2,\\cdots,x_n) \\\\ \n",
    " \\frac{dx_2}{dt} &=g_2(x_1,x_2,\\cdots,x_n) \\\\ \n",
    "    & \\;\\vdots \\\\ \n",
    " \\frac{dx_n}{dt} &=g_n(x_1,x_2,\\cdots,x_n)\n",
    "\\end{align*}\n",
    "$\n",
    "\n",
    "Notice that the independent variable $t$ does not appear explicitly on the right-hand side of each differential\n",
    "equation."
   ]
  },
  {
   "cell_type": "markdown",
   "metadata": {
    "slideshow": {
     "slide_type": "subslide"
    }
   },
   "source": [
    "* **Second-Order DE as a System**\n",
    "\n",
    "  Any second-order differential equation $x''=g(x,x')$ can be written as an autonomous system. \n",
    "  If we let $y=x'$, the second-order differential equation becomes the system of two first-order equations\n",
    "  \n",
    "  >$\n",
    "  \\begin{align*}\n",
    "     x' &= y\\\\ \n",
    "     y' &= g(x,y) \n",
    "  \\end{align*}\n",
    "  $"
   ]
  },
  {
   "cell_type": "markdown",
   "metadata": {
    "slideshow": {
     "slide_type": "fragment"
    }
   },
   "source": [
    "  **Example:** The displacement angle $\\theta$ for a pendulum satisfies the nonlinear second-order\n",
    "  differential equation\n",
    "  \n",
    "  >$\\scriptsize\\displaystyle\\frac{d^2 \\theta}{dt^2} +\\frac{g}{l}\\sin\\theta=0$\n",
    "  \n",
    "  If we let $x=\\theta$ and $y=\\theta'$, this second-order differential equation can be written as the autonomous system\n",
    "  \n",
    "  >$\\scriptsize x' = y,\\;\\; y' = -\\frac{g}{l}\\sin x$"
   ]
  },
  {
   "cell_type": "markdown",
   "metadata": {
    "slideshow": {
     "slide_type": "subslide"
    }
   },
   "source": [
    "* **Plane Autonomous System**\n",
    "  \n",
    "  When $n=2$, the system is called a **plane autonomous system**, and we write the system as\n",
    "  \n",
    "  >$\\displaystyle\n",
    "  \\begin{align*}\n",
    "     \\frac{dx}{dt} &= P(x,y)\\\\ \n",
    "     \\frac{dy}{dt} &= Q(x,y)\n",
    "  \\end{align*}\n",
    "  $\n",
    "  \n",
    "  If $P(x,y)$, $Q(x,y)$, and the first-order partial derivatives $\\partial P/\\partial x$,\n",
    "  $\\partial P/\\partial y$, $\\partial Q/\\partial x$, and $\\partial Q/\\partial y$ are continuous in a\n",
    "  region $R$ of the plane, then a solution to the plane autonomous system that satisfies \n",
    "  $\\mathbf{x}(0)=\\mathbf{x}_0$ is unique and one of three basic types:"
   ]
  },
  {
   "cell_type": "markdown",
   "metadata": {
    "slideshow": {
     "slide_type": "subslide"
    }
   },
   "source": [
    "* A **constant solution**, $\\mathbf{x}(t)=\\mathbf{x}_0$ for all $t$. \n",
    "  A constant solution is called a **critical** or **stationary point**\n",
    "    \n",
    "  $\\scriptsize\\displaystyle\n",
    "    \\begin{align*}\n",
    "       P(x,y) &= 0 \\\\ \n",
    "       Q(x,y) &= 0\n",
    "   \\end{align*}$\n",
    "    \n",
    "   Note that since $\\mathbf{x}'=\\mathbf{0}$, a critical point is a solution of the system of algebraic equations\n",
    "    \n",
    "* An **arc**, $\\mathbf{x}(t)$ - a plane curve that does not cross itself\n",
    "    \n",
    "  <img src=\"figures/ch11_figure01.png\" width=\"400\">\n",
    "    \n",
    "* A **periodic solution** or **cycle**, $\\mathbf{x}(t +p)=\\mathbf{x}(t)$\n",
    "    \n",
    "  <img src=\"figures/ch11_figure02.png\" width=\"150\"> "
   ]
  },
  {
   "cell_type": "markdown",
   "metadata": {
    "slideshow": {
     "slide_type": "subslide"
    }
   },
   "source": [
    "**Example:** Find all criticl points of the following plane autonomous system\n",
    "\n",
    ">$\n",
    "\\begin{align*}\n",
    " x'&= x^2 +y^2 -6\\\\ \n",
    " y'&= x^2 -y \n",
    "\\end{align*}\n",
    "$"
   ]
  },
  {
   "cell_type": "markdown",
   "metadata": {
    "slideshow": {
     "slide_type": "subslide"
    }
   },
   "source": [
    "### Exercises 11.1\n",
    "\n",
    "* 1, 3, 7, 9\n",
    "* 17, 19"
   ]
  },
  {
   "cell_type": "markdown",
   "metadata": {
    "slideshow": {
     "slide_type": "slide"
    }
   },
   "source": [
    "## 11.2 Stability of Linear Systems"
   ]
  },
  {
   "cell_type": "markdown",
   "metadata": {
    "slideshow": {
     "slide_type": "fragment"
    }
   },
   "source": [
    "If $\\mathbf{x}_1$ is a critical point of a plane autonomous system and $\\mathbf{x}=\\mathbf{x}(t)$ is a solution\n",
    "satisfying $\\mathbf{x}(0)=\\mathbf{x}_0$, when $\\mathbf{x}_0$ is placed near $\\mathbf{x}_1$"
   ]
  },
  {
   "cell_type": "markdown",
   "metadata": {
    "slideshow": {
     "slide_type": "fragment"
    }
   },
   "source": [
    "<img src=\"figures/ch11_figure03.png\" width=\"650\">"
   ]
  },
  {
   "cell_type": "markdown",
   "metadata": {
    "slideshow": {
     "slide_type": "fragment"
    }
   },
   "source": [
    "**(a)** It may return to the critical point <br>\n",
    "**(b)** It may remain close to the critical point without returning <br>\n",
    "**(c)** It may move away from the critical point"
   ]
  },
  {
   "cell_type": "markdown",
   "metadata": {
    "slideshow": {
     "slide_type": "subslide"
    }
   },
   "source": [
    "* **Stability Analysis**\n",
    "\n",
    "  A careful geometric analysis of the solutions to the *linear* plane autonomous system\n",
    "  \n",
    "  >$\n",
    "    \\begin{align*}\n",
    "       x'&= ax +by\\\\ \n",
    "       y'&= cx +dy\n",
    "    \\end{align*}\n",
    "   $\n",
    "  \n",
    "  in terms of the eigenvalues and eigenvectors of the coefficient matrix\n",
    "  \n",
    "  >$\\mathbf{A}=\n",
    "    \\begin{pmatrix}\n",
    "     a & b\\\\ \n",
    "     c & d\n",
    "    \\end{pmatrix}\n",
    "   $\n",
    "   \n",
    "  drives the stabilty analysis. "
   ]
  },
  {
   "cell_type": "markdown",
   "metadata": {
    "slideshow": {
     "slide_type": "subslide"
    }
   },
   "source": [
    "  To ensure that $\\mathbf{x}_0=(0,\\,0)$ is the only critical point,\n",
    "  we will assume that the determinant $\\Delta = ad -bc \\neq 0$. If $\\tau = a + d$ is the trace of matrix $\\mathbf{A}$,\n",
    "  then the characteristic equation $\\mathrm{det}(\\mathbf{A} -\\lambda\\mathbf{I})=0$ can be rewritten as\n",
    "  \n",
    "  >$\\lambda^2 -\\tau\\lambda +\\Delta =0$\n",
    "  \n",
    "  Therefore the eigenvalues of $\\mathbf{A}$ are \n",
    "  \n",
    "  >$\\displaystyle\\lambda =\\frac{\\tau \\pm \\sqrt{\\tau^2 -4\\Delta}}{2}$\n",
    "  \n",
    "  and the usual three cases for these roots occur according to whether $\\tau^2 -4\\Delta$ is positive, negative,\n",
    "  or zero."
   ]
  },
  {
   "cell_type": "markdown",
   "metadata": {
    "slideshow": {
     "slide_type": "subslide"
    }
   },
   "source": [
    "**Example:** Find the eigenvalues of the linear system\n",
    "\n",
    ">$\n",
    "    \\begin{align*}\n",
    "       x'&= -x +y\\\\ \n",
    "       y'&= cx -y\n",
    "    \\end{align*}\n",
    " $\n",
    " \n",
    "in terms of $c$, and use a numerical solver to discover the shapes of solutions corresponding to the cases\n",
    "$c=\\frac{1}{4}$, $4$, $0$, and $-9$. $\\mathbf{A}$ has trace $\\tau=-2$ and determinant $\\Delta=1 -c$, \n",
    "and so the eigenvalues are\n",
    "\n",
    ">$\n",
    "  \\lambda =-1 \\pm \\sqrt{c}\n",
    " $\n",
    " \n",
    "The nature of the eigenvalues is therefore determined by the value of $c$ "
   ]
  },
  {
   "cell_type": "code",
   "execution_count": null,
   "metadata": {
    "slideshow": {
     "slide_type": "subslide"
    }
   },
   "outputs": [],
   "source": [
    "import numpy as np\n",
    "import sympy as sp\n",
    "import matplotlib.pyplot as plt\n",
    "\n",
    "sp.init_printing(use_unicode=True)\n",
    "\n",
    "c = sp.Symbol('c')\n",
    "A = sp.Matrix([[-1, 1], [c, -1]])\n",
    "A.eigenvects()"
   ]
  },
  {
   "cell_type": "code",
   "execution_count": null,
   "metadata": {
    "slideshow": {
     "slide_type": "subslide"
    }
   },
   "outputs": [],
   "source": [
    "w = 1\n",
    "xp = np.linspace(-w, w, 50)\n",
    "yp = np.linspace(-w, w, 50)\n",
    "x, y = np.meshgrid(xp, yp)\n",
    "\n",
    "c_ = np.array([1/4, 4, 0, -9])\n",
    "c_title = [r'$c=\\frac{1}{4}$', r'$c=4$', r'$c=0$', r'$c=-9$']"
   ]
  },
  {
   "cell_type": "code",
   "execution_count": null,
   "metadata": {
    "slideshow": {
     "slide_type": "subslide"
    }
   },
   "outputs": [],
   "source": [
    "%matplotlib qt\n",
    "\n",
    "fig = plt.figure(figsize=(8, 8))\n",
    "\n",
    "for i in range(4):\n",
    "    \n",
    "    ax = fig.add_subplot(2, 2, i +1)\n",
    "\n",
    "    xdot = -x +y\n",
    "    ydot = c_[i]*x -y\n",
    "    \n",
    "    if c_[i] >= 0.0:\n",
    "        y_1 = -np.sqrt(c_[i])*xp\n",
    "        y_2 = np.sqrt(c_[i])*xp\n",
    "        ax.plot(xp, y_1, 'r:', xp, y_2, 'r:')    \n",
    "    ax.streamplot(x, y, xdot, ydot, color='blue')\n",
    "\n",
    "    ax.set_title(c_title[i])\n",
    "\n",
    "    ax.axis((-w, w, -w, w))\n",
    "    ax.set_aspect(aspect='equal')\n",
    "    ax.grid()\n",
    "    \n",
    "    ax.tick_params(axis='both', direction='in', pad=6)     \n",
    "    ax.xaxis.set_ticks(np.linspace(-w, w, 5))\n",
    "    ax.yaxis.set_ticks(np.linspace(-w, w, 5))\n",
    "    \n",
    "    if i >= 2: ax.set_xlabel(r'$x$')\n",
    "    if i == 0 or i == 2: ax.set_ylabel(r'$y$')     "
   ]
  },
  {
   "cell_type": "markdown",
   "metadata": {
    "slideshow": {
     "slide_type": "subslide"
    }
   },
   "source": [
    "Trajectory behaviors in phase portraits can be explained with eigenvalue-eigenvector of $\\mathbf{A}$\n",
    "\n",
    "#### **Real Distinct Eigenvalues** ($\\tau^2 -4\\Delta > 0$)\n",
    "\n",
    ">$\n",
    "\\begin{align*}\n",
    " \\mathbf{x}(t)&= c_1\\mathbf{k}_1 e^{\\lambda_1 t} +c_2\\mathbf{k}_2 e^{\\lambda_2 t}\\\\ \n",
    " &\\;\\Downarrow \\;{\\scriptstyle \\lambda_1 >\\lambda_2}\\\\ \n",
    " &= e^{\\lambda_1 t} \\left[c_1\\mathbf{k}_1 +c_2\\mathbf{k}_2 e^{(\\lambda_2 -\\lambda_1)t} \\right ] \\\\\n",
    " &\\;\\Downarrow \\;\\,{\\scriptstyle t \\to \\infty}\\\\\n",
    " &\\simeq c_1\\mathbf{k}_1 e^{\\lambda_1 t}\n",
    "\\end{align*}\n",
    " $"
   ]
  },
  {
   "cell_type": "markdown",
   "metadata": {
    "slideshow": {
     "slide_type": "subslide"
    }
   },
   "source": [
    "* **Both eigenvalues negative** ($\\tau^2 -4\\Delta > 0$, $\\tau<0$, $\\Delta>0$) \n",
    "   \n",
    "  **Stable Node:** Since both eigenvalues are negative, it follows that \n",
    "  $\\lim_{t \\to \\infty} \\mathbf{x}(t)=\\mathbf{0}$ in the direction of $\\mathbf{k}_1$ when $c_1 \\neq 0$ or\n",
    "  in the direction of $\\mathbf{k}_2$ when $c_1=0$\n",
    "    \n",
    "* **Both eigenvalues positive** ($\\tau^2 -4\\Delta > 0$, $\\tau>0$, $\\Delta>0$)\n",
    "   \n",
    "   **Unstable Node:** $\\mathbf{x}(t)$ becomes unbounded in the direction of \n",
    "   $\\mathbf{k}_1$ when $c_1 \\neq 0$ or in the direction of $\\mathbf{k}_2$ when $c_1=0$ \n",
    "   \n",
    "* **Eigenvalues have opposite signs** ($\\tau^2 -4\\Delta > 0$, $\\Delta<0$)\n",
    "   \n",
    "   **Saddle Point:** When $c_1=0$, $\\mathbf{x}(t)$ will approach $\\mathbf{0}$ along the line determined by \n",
    "   $\\mathbf{k}_2$. If $\\mathbf{x}(0)$ does not lie on the line determined by $\\mathbf{k}_2$, the direction\n",
    "   determined by $\\mathbf{k}_1$ serves as an asymtote for $\\mathbf{x}(t)$ "
   ]
  },
  {
   "cell_type": "markdown",
   "metadata": {
    "slideshow": {
     "slide_type": "subslide"
    }
   },
   "source": [
    "**Example:** Classify the critical point $(0,0)$ of each of the following linear system \n",
    "$\\mathbf{x}'=\\mathbf{A}\\mathbf{x}$ as either a stable node, an unstable node, or a saddle point\n",
    "\n",
    ">(a) $\\begin{pmatrix} -2 & -2\\\\ -2 & -5 \\end{pmatrix}$, $\\;$\n",
    " (b) $\\begin{pmatrix} -1 & -2\\\\ \\;\\;3 & \\;\\;4 \\end{pmatrix}$, $\\;$\n",
    " (c) $\\begin{pmatrix} 2 & -1\\\\ 3 & -2 \\end{pmatrix}$"
   ]
  },
  {
   "cell_type": "code",
   "execution_count": null,
   "metadata": {
    "slideshow": {
     "slide_type": "subslide"
    }
   },
   "outputs": [],
   "source": [
    "w = 1\n",
    "xp = np.linspace(-w, w, 6)\n",
    "yp = np.linspace(-w, w, 6)\n",
    "x, y = np.meshgrid(xp, yp)\n",
    "\n",
    "A = np.array([[[-2, -2], [-2, -5]], [[-1, -2], [3, 4]], [[2, -1], [3, -2]]])\n",
    "A_title = ['Stable Node', 'Unstable Node', 'Saddle Point']"
   ]
  },
  {
   "cell_type": "code",
   "execution_count": null,
   "metadata": {
    "slideshow": {
     "slide_type": "subslide"
    }
   },
   "outputs": [],
   "source": [
    "fig = plt.figure(figsize=(12, 4))\n",
    "\n",
    "for i in range(3):\n",
    "    xdot = A[i,0,0]*x +A[i,0,1]*y\n",
    "    ydot = A[i,1,0]*x +A[i,1,1]*y\n",
    "\n",
    "    lamda, v = np.linalg.eig(A[i])\n",
    "\n",
    "    if lamda[0] >= lamda[1]:\n",
    "        y_1 = v[1,0]/v[0,0]*xp\n",
    "        y_2 = v[1,1]/v[0,1]*xp\n",
    "    else:\n",
    "        y_1 = v[1,1]/v[0,1]*xp\n",
    "        y_2 = v[1,0]/v[0,0]*xp       \n",
    "\n",
    "    ax = fig.add_subplot(1, 3, i +1)\n",
    "    \n",
    "    ax.plot(xp, y_1, 'r:', xp, y_2, 'g:')    \n",
    "    ax.streamplot(x, y, xdot, ydot, color='blue')\n",
    "\n",
    "    ax.set_title(A_title[i])\n",
    "\n",
    "    ax.axis((-w, w, -w, w))\n",
    "    ax.set_aspect(aspect='equal')\n",
    "    ax.grid()\n",
    "    \n",
    "    ax.tick_params(axis='both', direction='in', pad=5)     \n",
    "    ax.xaxis.set_ticks(np.linspace(-w, w, 5))\n",
    "    ax.set_xlabel(r'$x$')\n",
    "    \n",
    "    ax.yaxis.set_ticks(np.linspace(-w, w, 5))\n",
    "    if i == 0:\n",
    "        ax.set_ylabel(r'$y$')"
   ]
  },
  {
   "cell_type": "markdown",
   "metadata": {
    "slideshow": {
     "slide_type": "subslide"
    }
   },
   "source": [
    "#### **A Repeated Real Eigenvalue** ($\\tau^2 -4\\Delta = 0$)\n",
    "\n",
    "The general solution takes on one of two different forms depending on whether **one** or **two** linearly independent\n",
    "eigenvectors can be found for the repeated eigenvalues $\\lambda_1$\n",
    "\n",
    "* **Two linearly independent eigenvectors**\n",
    "\n",
    "  If $\\mathbf{k}_1$ and $\\mathbf{k}_2$ are two linearly independent eigenvectors corresponding to $\\lambda_1$,\n",
    "  then the general solution is given by\n",
    "  \n",
    "  >$\\mathbf{x}(t)=c_1\\mathbf{k}_1 e^{\\lambda_1 t} +c_2\\mathbf{k}_2 e^{\\lambda_1 t}=\n",
    "    \\left(c_1\\mathbf{k}_1 + c_2\\mathbf{k}_2 \\right) e^{\\lambda_1 t}$\n",
    "   \n",
    "  If $\\lambda_1<0$, the $\\mathbf{x}(t)$ approaches $\\mathbf{0}$ along the line determined by the vector\n",
    "  $c_1\\mathbf{k}_1 + c_2\\mathbf{k}_2$ and the critical point is a **degenerate stable node**.\n",
    "  The arrows are reversed when $\\lambda_1>0$, and the critical point is a **degenerate unstable node**"
   ]
  },
  {
   "cell_type": "markdown",
   "metadata": {
    "slideshow": {
     "slide_type": "subslide"
    }
   },
   "source": [
    "* **A single linearly independent eigenvectors**\n",
    "  \n",
    "  When only a single linearly independent eigenvector $\\mathbf{k}_{11}$ exists, the general solution is \n",
    "  given by\n",
    "  \n",
    "  >$\\begin{align*}\n",
    "     \\mathbf{x}(t)&=c_1\\mathbf{k}_{11} e^{\\lambda_1 t} +c_2\\left(\\mathbf{k}_{11} te^{\\lambda_1 t} \n",
    "            +\\mathbf{k}_{12} e^{\\lambda_1 t}\\right)\\\\\n",
    "         &=te^{\\lambda_1 t}\\left[c_2 \\mathbf{k}_{11} +\\frac{1}{t} \\left(c_1\\mathbf{k}_{11} \n",
    "            +c_2\\mathbf{k}_{12}\\right) \\right]\n",
    "    \\end{align*}$\n",
    "    \n",
    "  where $(\\mathbf{A} -\\lambda_1\\mathbf{I})\\mathbf{k}_{12}=\\mathbf{k}_{11}$. \n",
    "  If $\\lambda_1<0$, then $\\lim_{t \\to \\infty} te^{\\lambda_1 t}=0$ and it follows that $\\mathbf{x}(t)$\n",
    "  approaches $\\mathbf{0}$ in the line determined by $\\mathbf{k}_{11}$. The critical point is\n",
    "  again a **degenerate stable node**. When $\\lambda_1>0$, $\\mathbf{x}(t)$ becomes unbounded as $t$ increases, \n",
    "  and the critical point is a **degenerate unstable node** "
   ]
  },
  {
   "cell_type": "markdown",
   "metadata": {
    "slideshow": {
     "slide_type": "subslide"
    }
   },
   "source": [
    "**Example:** Classify the critical point $(0,0)$ of each of the following linear system \n",
    "$\\mathbf{x}'=\\mathbf{A}\\mathbf{x}$ \n",
    "\n",
    ">(a) $\\begin{pmatrix} 1 & 0\\\\ 0 & 1 \\end{pmatrix}$, $\\;$\n",
    "(b) $\\begin{pmatrix} 3 & -18\\\\ 2 &\\; -9 \\end{pmatrix}$, $\\;$\n",
    "(c) $\\begin{pmatrix} \\;\\;2 & 4\\\\ -1 & 6 \\end{pmatrix}$"
   ]
  },
  {
   "cell_type": "code",
   "execution_count": null,
   "metadata": {
    "slideshow": {
     "slide_type": "subslide"
    }
   },
   "outputs": [],
   "source": [
    "w = 1\n",
    "xp = np.linspace(-w, w, 6)\n",
    "yp = np.linspace(-w, w, 6)\n",
    "x, y = np.meshgrid(xp, yp)\n",
    "\n",
    "A = np.array([[[1, 0], [0, 1]], [[3, -18], [2, -9]], [[2, 4], [-1, 6]]])\n",
    "A_title = ['Degenerate Unstable', 'Degenerate Stable', 'Degenerate Unstable']"
   ]
  },
  {
   "cell_type": "code",
   "execution_count": null,
   "metadata": {
    "slideshow": {
     "slide_type": "subslide"
    }
   },
   "outputs": [],
   "source": [
    "fig = plt.figure(figsize=(12, 4))\n",
    "\n",
    "for i in range(3):\n",
    "\n",
    "    ax = fig.add_subplot(1, 3, i +1)\n",
    "    \n",
    "    xdot = A[i,0,0]*x +A[i,0,1]*y\n",
    "    ydot = A[i,1,0]*x +A[i,1,1]*y\n",
    "\n",
    "    lamda, v = np.linalg.eig(A[i])\n",
    "    \n",
    "    if i != 0:\n",
    "        y_1 = v[1,0]/v[0,0]*xp\n",
    "        ax.plot(xp, y_1, 'r:')\n",
    "            \n",
    "    ax.streamplot(x, y, xdot, ydot, color='blue')\n",
    "\n",
    "    ax.set_title(A_title[i])\n",
    "\n",
    "    ax.axis((-w, w, -w, w))\n",
    "    ax.set_aspect(aspect='equal')\n",
    "    ax.grid()\n",
    "    \n",
    "    ax.tick_params(axis='both', direction='in', pad=5)     \n",
    "    ax.xaxis.set_ticks(np.linspace(-w, w, 5))\n",
    "    ax.set_xlabel(r'$x$')\n",
    "    \n",
    "    ax.yaxis.set_ticks(np.linspace(-w, w, 5))\n",
    "    if i == 0: ax.set_ylabel(r'$y$')"
   ]
  },
  {
   "cell_type": "markdown",
   "metadata": {
    "slideshow": {
     "slide_type": "subslide"
    }
   },
   "source": [
    "#### **Complex Eigenvalues** ($\\tau^2 -4\\Delta < 0$)\n",
    "\n",
    "If $\\lambda_1=\\alpha +i\\beta$ and $\\bar{\\lambda}_1$ are the complex eigenvalues and \n",
    "$\\mathbf{k}_1=\\mathbf{b}_1 +i\\mathbf{b}_2$ is a complex eigenvector corresponding to $\\lambda_1$,\n",
    "the general solution can be written as $\\mathbf{x}=c_1\\mathbf{x}_1 +c_2\\mathbf{x}_2$\n",
    "\n",
    ">$\\mathbf{x}_1(t)=e^{\\alpha t}\\left(\\mathbf{b}_1\\cos\\beta t -\\mathbf{b}_2\\sin\\beta t\\right)\\;$ and \n",
    " $\\;\\mathbf{x}_2(t)=e^{\\alpha t}\\left(\\mathbf{b}_2\\cos\\beta t +\\mathbf{b}_1\\sin\\beta t\\right)$\n",
    " \n",
    "* **Pure imaginary roots** ($\\tau^2 -4\\Delta < 0$, $\\text{ }\\tau=0$)\n",
    "\n",
    "  **Center:** When $\\alpha=0$, all solutions are ellipses with center at the origin and are periodic \n",
    "  with period $p=2\\pi/\\beta$. The critical point is called a **center**\n",
    "  \n",
    "* **Nonezero real part** ($\\tau^2 -4\\Delta < 0$, $\\text{ }\\tau\\neq 0$)  \n",
    "\n",
    "  **Spiral Point:** When $\\alpha<0$, $e^{\\alpha t}\\to 0$, and the elliptical-like solution spirals closer\n",
    "  and closer to the origin. The critical point is called a **stable spiral point**. When $\\alpha>0$, the \n",
    "  effect is the opposite. An elliptical-like solution is driven farther and farther from the origin,\n",
    "  and the critical point is now called an **unstable spiral point**"
   ]
  },
  {
   "cell_type": "markdown",
   "metadata": {
    "slideshow": {
     "slide_type": "subslide"
    }
   },
   "source": [
    "**Example:** $\\text{ }$Classify the critical point $(0,0)$ of each of the following linear system \n",
    "$\\mathbf{x}'=\\mathbf{A}\\mathbf{x}$ \n",
    "\n",
    ">(a) $\\begin{pmatrix} -1 & 2\\\\ -1 & 1 \\end{pmatrix}$,$\\;$\n",
    "(b) $\\begin{pmatrix} -1 & -4\\\\ \\;\\;1 & -1 \\end{pmatrix}$"
   ]
  },
  {
   "cell_type": "code",
   "execution_count": null,
   "metadata": {
    "slideshow": {
     "slide_type": "subslide"
    }
   },
   "outputs": [],
   "source": [
    "w = 1\n",
    "xp = np.linspace(-w, w, 6)\n",
    "yp = np.linspace(-w, w, 6)\n",
    "x, y = np.meshgrid(xp, yp)\n",
    "\n",
    "A = np.array([[[-1, 2], [-1, 1]],[[-1, -4], [1, -1]]])\n",
    "A_title = ['Center', 'Stable Spiral']"
   ]
  },
  {
   "cell_type": "code",
   "execution_count": null,
   "metadata": {
    "slideshow": {
     "slide_type": "subslide"
    }
   },
   "outputs": [],
   "source": [
    "fig = plt.figure(figsize=(8, 4))\n",
    "\n",
    "for i in range(2):\n",
    "\n",
    "    ax = fig.add_subplot(1, 2, i +1)\n",
    "    \n",
    "    xdot = A[i,0,0]*x +A[i,0,1]*y\n",
    "    ydot = A[i,1,0]*x +A[i,1,1]*y\n",
    "\n",
    "    lamda, v = np.linalg.eig(A[i])\n",
    "            \n",
    "    ax.streamplot(x, y, xdot, ydot, color='blue')\n",
    "\n",
    "    ax.set_title(A_title[i])\n",
    "\n",
    "    ax.axis((-w, w, -w, w))\n",
    "    ax.set_aspect(aspect='equal')\n",
    "    ax.grid()\n",
    "    \n",
    "    ax.tick_params(axis='both', direction='in', pad=5)     \n",
    "    ax.xaxis.set_ticks(np.linspace(-w, w, 5))\n",
    "    ax.set_xlabel(r'$x$')\n",
    "    \n",
    "    ax.yaxis.set_ticks(np.linspace(-w, w, 5))\n",
    "    if i == 0: ax.set_ylabel(r'$y$')"
   ]
  },
  {
   "cell_type": "markdown",
   "metadata": {
    "cell_style": "split",
    "slideshow": {
     "slide_type": "subslide"
    }
   },
   "source": [
    "<img src=\"figures/ch11_figure04.png\" width=\"700\">\n",
    "\n",
    "For a linear plane autonomous system $\\mathbf{x}'=\\mathbf{A}\\mathbf{x}$ with $\\mathrm{det}\\,\\mathbf{A}\\neq 0$,\n",
    "let $\\mathbf{x}$ denote the solution that satisfies the initial condition $\\mathbf{x}(0)=\\mathbf{x}_0$, where\n",
    "$\\mathbf{x}_0\\neq\\mathbf{0}$"
   ]
  },
  {
   "cell_type": "markdown",
   "metadata": {
    "cell_style": "split",
    "slideshow": {
     "slide_type": "fragment"
    }
   },
   "source": [
    "1. $\\lim_{t \\to \\infty}\\mathbf{x}(t)=\\mathbf{0}$ if and only if the eigenvalues of $\\mathbf{A}$ have negative\n",
    "   real parts. This will occur when $\\Delta>0$ and $\\tau<0$\n",
    "1. $\\mathbf{x}(t)$ is periodic if and only if the eigenvalues of $\\mathbf{A}$ are pure imaginary. This will\n",
    "   occur when $\\Delta>0$ and $\\tau=0$\n",
    "1. In all other cases, given any neighborhood of the origin, there is at least one $\\mathbf{x}_0$ in the neighborhood for which $\\mathbf{x}(t)$ becomes unbounded as $t$ increases"
   ]
  },
  {
   "cell_type": "markdown",
   "metadata": {
    "slideshow": {
     "slide_type": "subslide"
    }
   },
   "source": [
    "### Exercises 11.2\n",
    "\n",
    "* 1, 3, 6, 8\n",
    "* 9, 11\n",
    "* 18, 20"
   ]
  },
  {
   "cell_type": "markdown",
   "metadata": {
    "slideshow": {
     "slide_type": "subslide"
    }
   },
   "source": [
    "## 11.3 Linearization and Local Stability"
   ]
  },
  {
   "cell_type": "markdown",
   "metadata": {
    "slideshow": {
     "slide_type": "fragment"
    }
   },
   "source": [
    "Here we will use linearization as a means of analyzing nonlinear DEs and nonlinear systems; the idea is to replace them by linear DEs and linear systems. Let $\\mathbf{x}_1$ be a critical point of an autonomous system, and let $\\mathbf{x}=\\mathbf{x}(t)$ denote the solution that satisfies the initial condition $\\mathbf{x}(0)=\\mathbf{x}_0$, where $\\mathbf{x}\\neq\\mathbf{x}_1$.\n",
    "\n",
    "* $\\mathbf{x}_1$ is a **stable critical point**\n",
    "  \n",
    "  when, given any $\\rho > 0$, there is a $r>0$ such that if $\\mathbf{x}_0$ satisfies $|\\mathbf{x}_0 -\\mathbf{x}_1|<r$,\n",
    "  then $\\mathbf{x}(t)$ satisfies $|\\mathbf{x}(t) -\\mathbf{x}_1|<\\rho$ for all $t>0$. If, in addition, \n",
    "  $\\lim_{t \\to \\infty} \\mathbf{x}(t)=\\mathbf{x}_1$ whenever $|\\mathbf{x}_0 -\\mathbf{x}_1|<r$, we call\n",
    "  $\\mathbf{x}_1$ an **asymptotically stable critical point**\n",
    "  \n",
    "* $\\mathbf{x}_1$ is a **unstable critical point**\n",
    "\n",
    "  if there is $\\rho>0$ with the property that, for any $r>0$, there is at least one $\\mathbf{x}_0$ that\n",
    "  satisfies $|\\mathbf{x}_0 -\\mathbf{x}_1|<r$, yet the corresponding solution $\\mathbf{x}(t)$ satisfies \n",
    "  $|\\mathbf{x}(t) -\\mathbf{x}_1|\\geq\\rho$ for at least one $t>0$"
   ]
  },
  {
   "cell_type": "markdown",
   "metadata": {
    "slideshow": {
     "slide_type": "subslide"
    }
   },
   "source": [
    "**Example:** $\\text{ }$Show that $(0,0)$ is a stable critical point of the nonlinear plane autonomous system\n",
    "\n",
    ">$x' = -y -x\\sqrt{x^2 +y^2}, \\;\\; y' = x -y\\sqrt{x^2 +y^2}$"
   ]
  },
  {
   "cell_type": "markdown",
   "metadata": {
    "slideshow": {
     "slide_type": "fragment"
    }
   },
   "source": [
    "From the formulas $r^2=x^2 +y^2$ and $\\theta=\\tan^{-1}(y/x)$, we obtain\n",
    "\n",
    ">$\\displaystyle\n",
    "  \\frac{dr}{dt}=\\frac{1}{r}\\left(x\\frac{dx}{dt}+y\\frac{dy}{dt} \\right),\\;\n",
    "  \\frac{d\\theta}{dt}=\\frac{1}{r^2}\\left( -y\\frac{dx}{dt} +x\\frac{dy}{dt}\\right)$\n",
    "  \n",
    "Substituting for $dx/dt$ and $dy/dt$ in the expressions for $dr/dt$ and $d\\theta/dt$, we obtain\n",
    "\n",
    ">$\\displaystyle\\frac{dr}{dt} = -r^2, \\; \\frac{d\\theta}{dt} = 1$"
   ]
  },
  {
   "cell_type": "markdown",
   "metadata": {
    "slideshow": {
     "slide_type": "subslide"
    }
   },
   "source": [
    "Using separation of variables, we see that the solution of the system is\n",
    "\n",
    ">$\\displaystyle r=\\frac{1}{t +c_1},\\;\\;\\theta=t +c_2$\n",
    "\n",
    "for $r\\neq 0$. If $\\mathbf{x}(0)=(r_0,\\theta_0)$ is the initial condition in polar coordinates, then\n",
    "\n",
    ">$\\displaystyle r=\\frac{r_0}{r_0 t +1},\\;\\;\\theta=t +\\theta_0$\n",
    "\n",
    "Note that $r\\leq r_0$ for $t\\geq 0$, and $r$ approaches $0$ as $t$ increases. Therefore, given $\\rho>0$,\n",
    "a solution that starts less than $\\rho$ from the origin remains within $\\rho$ of the origin for all $t\\geq 0$.\n",
    "Hence the critical point $(0,0)$ is asymptotically stable"
   ]
  },
  {
   "cell_type": "markdown",
   "metadata": {
    "slideshow": {
     "slide_type": "subslide"
    }
   },
   "source": [
    "**Example:** $\\text{ }$When expressed in polar coordinates, a plane autonomous system takes the form\n",
    "\n",
    ">$\n",
    "\\begin{align*}\n",
    "  \\frac{dr}{dt} &= 0.05\\,r(3 -r)\\\\ \n",
    "  \\frac{d\\theta}{dt} &= -1\n",
    "\\end{align*}\n",
    "$\n",
    "\n",
    "Show that $(x,y)=(0,0)$ is unstable critical point"
   ]
  },
  {
   "cell_type": "markdown",
   "metadata": {
    "slideshow": {
     "slide_type": "fragment"
    }
   },
   "source": [
    " We see that $dr/dt=0$ when $r=0$ and can conclude that $(x,y)=(0,0)$ is a critical point."
   ]
  },
  {
   "cell_type": "markdown",
   "metadata": {
    "slideshow": {
     "slide_type": "subslide"
    }
   },
   "source": [
    " The differential equation can be solved using separation of variables. If $r(0)=r_0$ and $r_0\\neq 0$, then\n",
    "\n",
    ">$\\displaystyle r=\\frac{3}{1 +c_0 e^{-0.15t}}$\n",
    "\n",
    "where $c_0=(3 -r_0)/r_0$. Since\n",
    "\n",
    ">$\\displaystyle\\lim_{t \\to \\infty}\\frac{3}{1 +c_0 e^{-0.15t}}=3$,\n",
    "\n",
    "it follows that no matter how close to $(0,0)$ a solution starts, the solution will leave a disk of radius $\\epsilon$ about the origin. Therefore $(0,0)$ is an unstable critical point"
   ]
  },
  {
   "cell_type": "markdown",
   "metadata": {
    "slideshow": {
     "slide_type": "subslide"
    }
   },
   "source": [
    "#### **Linearization**\n",
    "\n",
    "We replace the term $\\mathbf{g}(\\mathbf{x})$ in the original autonomous system $\\mathbf{x}'=\\mathbf{g}(\\mathbf{x})$\n",
    "by a linear term $\\mathbf{A}(\\mathbf{x} -\\mathbf{x}_1)$ that most closely approximates $\\mathbf{g}(\\mathbf{x})$\n",
    "in a neighborhood of $\\mathbf{x}_1$. This replacement process is called **linearization**\n",
    "\n",
    "When $\\mathbf{x}_1$ is a critical point of a plane autonomous system\n",
    "\n",
    ">$\n",
    "\\begin{align*}\n",
    " x' &= P(x,y)\\\\ \n",
    " y' &= Q(x,y)\n",
    "\\end{align*}\n",
    "$,\n",
    "\n",
    "$P(x_1,y_1)=Q(x_1,y_1)=0$ and we have\n",
    "\n",
    ">$\n",
    "\\begin{align*}\n",
    " x' &= P(x,y)\\simeq \\left.\\frac{\\partial P}{\\partial x}\\right|_{(x_1,y_1)}(x -x_1)\n",
    "         +\\left.\\frac{\\partial P}{\\partial y}\\right|_{(x_1,y_1)}(y -y_1)\\\\ \n",
    " y' &= Q(x,y)\\simeq \\left.\\frac{\\partial Q}{\\partial x}\\right|_{(x_1,y_1)}(x -x_1)\n",
    "         +\\left.\\frac{\\partial Q}{\\partial y}\\right|_{(x_1,y_1)}(y -y_1)\n",
    "\\end{align*}\n",
    "$"
   ]
  },
  {
   "cell_type": "markdown",
   "metadata": {
    "slideshow": {
     "slide_type": "subslide"
    }
   },
   "source": [
    "The original system $\\mathbf{x}'=\\mathbf{g}(\\mathbf{x})$ may be approximated in a neighborhood of $\\mathbf{x}_1$\n",
    "by the linear system $\\mathbf{x}'=\\mathbf{A}(\\mathbf{x} -\\mathbf{x}_1)$, where\n",
    "\n",
    ">$\\displaystyle\\mathbf{A}=\n",
    "\\begin{pmatrix}\n",
    " \\left.\\frac{\\partial P}{\\partial x}\\right|_{(x_1,y_1)} & \\left.\\frac{\\partial P}{\\partial y}\\right|_{(x_1,y_1)}\\\\ \n",
    " \\left.\\frac{\\partial Q}{\\partial x}\\right|_{(x_1,y_1)} & \\left.\\frac{\\partial Q}{\\partial y}\\right|_{(x_1,y_1)}\n",
    "\\end{pmatrix} = \\mathbf{g}'(\\mathbf{x}_1)\n",
    "$"
   ]
  },
  {
   "cell_type": "markdown",
   "metadata": {
    "slideshow": {
     "slide_type": "subslide"
    }
   },
   "source": [
    "#### **Stability Criteria for Plane Autonomous System**\n",
    "\n",
    "1. If the eigenvalues of $\\mathbf{A}=\\mathbf{g}'(\\mathbf{x}_1)$ have negative real part, then $\\mathbf{x}_1$ is \n",
    "   an asymptotically stable critical point\n",
    "1. If the eigenvalues of $\\mathbf{A}=\\mathbf{g}'(\\mathbf{x}_1)$ have positive real part, then $\\mathbf{x}_1$ is \n",
    "   an unstable critical point"
   ]
  },
  {
   "cell_type": "markdown",
   "metadata": {
    "slideshow": {
     "slide_type": "fragment"
    }
   },
   "source": [
    "**Example:** $\\text{ }$Classify the criticl points of the following plane autonomous system\n",
    "\n",
    ">$\n",
    "\\begin{align*}\n",
    " x'&= x^2 +y^2 -6\\\\ \n",
    " y'&= x^2 -y \n",
    "\\end{align*}\n",
    "$"
   ]
  },
  {
   "cell_type": "markdown",
   "metadata": {
    "slideshow": {
     "slide_type": "subslide"
    }
   },
   "source": [
    "The critical points are $(\\sqrt{2},2)$ and $(-\\sqrt{2},2)$ and the Jacobian matrix is\n",
    "\n",
    ">$\n",
    "\\mathbf{g}'(\\mathbf{x})=\n",
    "\\begin{pmatrix}\n",
    " 2x & 2y\\\\ \n",
    " 2x &-1 \n",
    "\\end{pmatrix}\n",
    "$\n",
    "\n",
    "and so\n",
    "\n",
    ">$\\mathbf{A}_1=\\mathbf{g}'({\\scriptsize(\\sqrt{2},2)})=\n",
    "{\\scriptsize\\begin{pmatrix}\n",
    " 2\\sqrt{2} & \\;\\;4\\\\ \n",
    " 2\\sqrt{2} &-1 \n",
    "\\end{pmatrix}}\\text{ }\n",
    "$ and $\\text{ } \\mathbf{A}_2=\\mathbf{g}'({\\scriptsize(-\\sqrt{2},2)})=\n",
    "{\\scriptsize\\begin{pmatrix}\n",
    " -2\\sqrt{2} & \\;\\;4\\\\ \n",
    " -2\\sqrt{2} &-1 \n",
    "\\end{pmatrix}}\n",
    "$\n",
    "\n",
    "Since the determinant of $\\mathbf{A}_1$ is negative, $\\mathbf{A}_1$ has a positive real eigenvalue.\n",
    "Therefore $(\\sqrt{2},2)$ is an unstable critical point. $\\mathbf{A}_2$ has a positive determinant and \n",
    "a negative trace, and so both eigenvalues have negative real parts. It follows that $(-\\sqrt{2},2)$ is a\n",
    "stable critical point"
   ]
  },
  {
   "cell_type": "markdown",
   "metadata": {
    "cell_style": "split",
    "slideshow": {
     "slide_type": "subslide"
    }
   },
   "source": [
    "#### Classifying Critical Points\n",
    "\n",
    "<img src=\"figures/ch11_figure05.png\" width=\"700\">"
   ]
  },
  {
   "cell_type": "markdown",
   "metadata": {
    "cell_style": "split",
    "slideshow": {
     "slide_type": "fragment"
    }
   },
   "source": [
    "**Example:** $\\text{ }$The second-order differential equation $mx'' +kx +k_1x^3 =0$, for $k>0$, represents a general\n",
    "model for the free, undamped oscillations of a mass $m$ attached to a nonlinear spring.\n",
    "If $k=1$ and $k_1=-1$, the spring is called soft and the plane autonomous system corresponding to the \n",
    "nonlinear second-order equation $x'' +x -x^3=0$ is\n",
    "\n",
    ">$\n",
    "\\begin{align*}\n",
    " x'&= y\\\\ \n",
    " y'&= x^3 -x\n",
    "\\end{align*}\n",
    "$\n",
    "\n",
    "Find and classify the critical points"
   ]
  },
  {
   "cell_type": "markdown",
   "metadata": {
    "slideshow": {
     "slide_type": "subslide"
    }
   },
   "source": [
    "Since $x^3 -x =x(x^2 -1)$, the critical points are $(0,0)$, $(1,0)$, and $(-1,0)$. The corresponding\n",
    "Jacobian matrices are\n",
    "\n",
    ">$\n",
    "\\mathbf{A}_1=\\mathbf{g}'((0,0))=\n",
    "\\begin{pmatrix}\n",
    " \\;\\;0 & 1\\\\ \n",
    " -1 & 0  \n",
    "\\end{pmatrix}\\;\n",
    "$ and\n",
    ">$\n",
    "\\mathbf{A}_2=\\mathbf{g}'((1,0))=\\mathbf{g}'((0,1))=\n",
    "\\begin{pmatrix}\n",
    "  0 & 1\\\\ \n",
    "  2 & 0 \n",
    "\\end{pmatrix}\n",
    "$\n",
    "\n",
    "Since $\\mathrm{det}\\,\\mathbf{A}_2<0$, critical points $(1,0)$ and $(-1,0)$ are both saddle points. The eigenvalues\n",
    "of $\\mathbf{A}_1$ are $\\pm i$, and the status of the critical points at $(0,0)$ remains in doubt. It may be\n",
    "either a stable spiral, an unstable spiral, or a center"
   ]
  },
  {
   "cell_type": "markdown",
   "metadata": {
    "slideshow": {
     "slide_type": "subslide"
    }
   },
   "source": [
    "#### **Phase-Plane Method**\n",
    "\n",
    "The linearization method can provide useful information on the local behavior of solutions near critical points.\n",
    "It is of little help if we are interested in solutions whose initial condition $\\mathbf{x}(0)=\\mathbf{x}_0$ is not\n",
    "close to a critical point or if we wish to obtain a global view of the family of solution curves. The \n",
    "**phase-plane method** is based on the fact that\n",
    "\n",
    ">$\\displaystyle\\frac{dy}{dx}=\\frac{dy/dt}{dx/dt}=\\frac{Q(x,y)}{P(x,y)}$\n",
    "\n",
    "and it attempts to find $y$ as a function of $x$ using one of the methods available for solving first-order DEs"
   ]
  },
  {
   "cell_type": "markdown",
   "metadata": {
    "slideshow": {
     "slide_type": "fragment"
    }
   },
   "source": [
    "**Example:**  $\\text{ }$Use the phase-plane method to determine the nature of the solutions to $x'' +x -x^3 =0$ in a neighborhood of $(0,0)$"
   ]
  },
  {
   "cell_type": "markdown",
   "metadata": {
    "slideshow": {
     "slide_type": "subslide"
    }
   },
   "source": [
    "If we let $dx/dt=y$, then $dy/dt=x^3 -x$. From this we obtain the first-order DE\n",
    "\n",
    ">$\\scriptsize\\displaystyle\\frac{dy}{dx}=\\frac{x^3 -x}{y}$\n",
    "\n",
    "which can be solved by separation of variables. Integrating gives\n",
    "\n",
    ">$\\scriptsize\\displaystyle\\frac{y^2}{2}=\\frac{x^4}{4}-\\frac{x^2}{2}+c$\n",
    "\n",
    "If $\\mathbf{x}(0)=(x_0,0)$, where $0<x_0<1$, then $c_0=-(x_0^2-1)^2/2$, and so\n",
    "\n",
    ">$\\scriptsize\\displaystyle y^2=\\frac{(x^2 -1)^2}{2} -\\frac{(x_0^2 -1)^2}{2}=\\frac{(2 -x^2 -x_0^2)(x_0^2 -x^2)}{2}$\n",
    "\n",
    "Note that $y=0$ when $x=-x_0$. In addition, the right-hand side is positive when $-x_0<x<x_0$, and\n",
    "so each $x$ has two corresponding values of $y$. The solution $\\mathbf{x}(t)$ that satisfies $\\mathbf{x}(0)=(x_0,0)$ is therefore periodic, and so $(0,0)$ is a center"
   ]
  },
  {
   "cell_type": "code",
   "execution_count": null,
   "metadata": {
    "cell_style": "split",
    "slideshow": {
     "slide_type": "subslide"
    }
   },
   "outputs": [],
   "source": [
    "from scipy.integrate import solve_ivp\n",
    "\n",
    "def myODE(t, y):\n",
    "    return [y[1], y[0]**3 -y[0]]\n",
    "\n",
    "def plotPhasePortrait(ax, g, td, x0, y0, color):\n",
    "    for i in range(x0.shape[0]):\n",
    "        sol = solve_ivp(g, [0, td[-1]], [x0[i], y0], t_eval = td)    \n",
    "        ax.plot(x0[i], y0, color +'x')\n",
    "        ax.plot(sol.y[0], sol.y[1], color +'-', linewidth = 0.2)    \n",
    "\n",
    "td = np.linspace(0, 50, 2000)    \n",
    "        \n",
    "x0_0, y0_0 = np.linspace( 0.1, 1.0, 10),  0.0\n",
    "x0_1, y0_1 = np.linspace( 1.6, 2.6, 30), -3.0  \n",
    "x0_2, y0_2 = np.linspace(-2.6,-1.6, 30),  3.0 "
   ]
  },
  {
   "cell_type": "code",
   "execution_count": null,
   "metadata": {
    "cell_style": "split",
    "slideshow": {
     "slide_type": "fragment"
    }
   },
   "outputs": [],
   "source": [
    "fig, ax = plt.subplots(figsize=(8, 8))\n",
    "\n",
    "plotPhasePortrait(ax, myODE, td, x0_0,  y0_0, 'k')\n",
    "plotPhasePortrait(ax, myODE, td, x0_1,  y0_1, 'b')\n",
    "plotPhasePortrait(ax, myODE, td, x0_2,  y0_2, 'r')\n",
    "    \n",
    "ax.set_title('Phase Portrait')\n",
    "\n",
    "w = 3\n",
    "ax.axis((-w, w, -w, w))\n",
    "ax.set_aspect(aspect='equal')\n",
    "ax.grid()\n",
    "   \n",
    "ax.tick_params(axis='both', direction='in', pad=5)     \n",
    "ax.xaxis.set_ticks(np.linspace(-w, w, 5))\n",
    "ax.yaxis.set_ticks(np.linspace(-w, w, 5))\n",
    "ax.set_xlabel(r'$x$')\n",
    "ax.set_ylabel(r'$y$');"
   ]
  },
  {
   "cell_type": "markdown",
   "metadata": {
    "slideshow": {
     "slide_type": "subslide"
    }
   },
   "source": [
    "### Exercises 11.3\n",
    "\n",
    "* 1, 3, 5, 7, 11, 13, 15\n",
    "* 27, 29\n",
    "* 40"
   ]
  },
  {
   "cell_type": "markdown",
   "metadata": {
    "slideshow": {
     "slide_type": "slide"
    }
   },
   "source": [
    "## 11.4 Autonomous Systems as Mathematical Models"
   ]
  },
  {
   "cell_type": "markdown",
   "metadata": {
    "slideshow": {
     "slide_type": "fragment"
    }
   },
   "source": [
    "Many applications from physics and biology give rise to nonlinear autonomous second-order DEs $x''=g(x,x')$"
   ]
  },
  {
   "cell_type": "markdown",
   "metadata": {
    "slideshow": {
     "slide_type": "fragment"
    }
   },
   "source": [
    "#### Nonlinear Pendulum\n",
    "\n",
    ">$\\displaystyle\\frac{d^2\\theta}{dt^2} +\\frac{g}{l}\\sin\\theta=0$\n",
    "\n",
    "When we let $x=\\theta$ and $y=\\theta'$, this second-order differential equation may be rewritten as the\n",
    "dynamical system\n",
    "\n",
    ">$\n",
    "\\begin{align*}\n",
    "  x' &= y\\\\ \n",
    "  y' &= -\\frac{g}{l}\\sin x\n",
    "\\end{align*}\n",
    "$"
   ]
  },
  {
   "cell_type": "markdown",
   "metadata": {
    "slideshow": {
     "slide_type": "subslide"
    }
   },
   "source": [
    "The critical points are $(\\pm k\\pi,0)$, and the Jacobian matrix is easily shown to be\n",
    "\n",
    ">$\\mathbf{g}'((\\pm k \\pi,0))=\n",
    "\\begin{pmatrix}\n",
    " 0 & 1\\\\ \n",
    " (-1)^{k+1}\\frac{g}{l} & 0 \n",
    "\\end{pmatrix}$\n",
    "\n",
    "If $k=2n+1$, $\\Delta<0$, and so all critical points $(\\pm(2n+1)\\pi,0)$ are saddle points. When\n",
    "$k=2n$, the eigenvalues are pure imaginary, and so the nature of these critical points remains in doubt.\n",
    "From\n",
    "\n",
    ">$\\displaystyle\\frac{dy}{dx}=\\frac{dy/dt}{dx/dt}=-\\frac{g}{l}\\frac{\\sin x}{y}$"
   ]
  },
  {
   "cell_type": "markdown",
   "metadata": {
    "slideshow": {
     "slide_type": "subslide"
    }
   },
   "source": [
    "it follows that \n",
    "\n",
    ">$\\displaystyle y^2=\\frac{2g}{l}\\cos x +c$\n",
    "\n",
    "If $\\mathbf{x}(0)=(x_0,0)$, then \n",
    "\n",
    ">$\\displaystyle y^2=\\frac{2g}{l}(\\cos x -\\cos x_0)$\n",
    "\n",
    "Note that $y=0$ when $x=-x_0$, and that $(2g/l)(\\cos x -\\cos x_0)>0$ for $|x|<|x_0|<\\pi$. Thus each\n",
    "such $x$ has two corresponding values of $y$, and so the solution $\\mathbf{x}(t)$ that satisfies \n",
    "$\\mathbf{x}(0)=(x_0,0)$ is periodic. We may conclude that $(0,0)$ is a center. \n",
    "In the case of large initial velocities, the pendulum spins in complete circles about the pivot"
   ]
  },
  {
   "cell_type": "code",
   "execution_count": null,
   "metadata": {
    "slideshow": {
     "slide_type": "subslide"
    }
   },
   "outputs": [],
   "source": [
    "w1 = 4*np.pi\n",
    "w2 = np.pi\n",
    "xp = np.linspace(-w1, w1, 200)\n",
    "yp = np.linspace(-w2, w2, 200)\n",
    "x, y = np.meshgrid(xp, yp)\n",
    "\n",
    "g = 9.8\n",
    "l = 8\n",
    "xdot = y\n",
    "ydot = -g/l*np.sin(x)\n",
    "\n",
    "fig, ax = plt.subplots(figsize=(12, 3))\n",
    "      \n",
    "ax.streamplot(x, y, xdot, ydot, density = 3, linewidth = 0.5, color='blue')\n",
    "\n",
    "ax.set_title('Nonlinear Pendulum')\n",
    " \n",
    "ax.axis((-w1, w1, -w2, w2))\n",
    "ax.set_aspect(aspect='equal')\n",
    "ax.grid()\n",
    "    \n",
    "ax.tick_params(axis='both', direction='in', pad=5)     \n",
    "ax.xaxis.set_ticks(np.linspace(-w1, w1, 5))\n",
    "ax.xaxis.set_ticklabels([r'$-4\\pi$', r'$-2\\pi$', r'$0$', r'$2\\pi$', r'$4\\pi$'])\n",
    "ax.set_xlabel(r'$x$')\n",
    "ax.yaxis.set_ticks(np.linspace(-w2, w2, 3))\n",
    "ax.yaxis.set_ticklabels([r'$-\\pi$', r'$0$', r'$\\pi$'])\n",
    "ax.set_ylabel(r'$y$');"
   ]
  },
  {
   "cell_type": "markdown",
   "metadata": {
    "slideshow": {
     "slide_type": "subslide"
    }
   },
   "source": [
    "#### Periodic Solutions of the Pendulum DE\n",
    "\n",
    "Suppose a bead with mass $m$ slides along a thin wire whose shape is described by the function $z=f(x)$.\n",
    "A wide variety of nonlinear oscillations can be obtained by changing the shape of the wire and by making\n",
    "different assumptions about the forces acting on the bead\n",
    "\n",
    "<img src=\"figures/ch11_figure06.png\" width=\"350\">\n",
    "\n",
    "The tangential force $\\mathbf{F}$ due to the weight $W=mg$ has a magnitude $mg\\sin\\theta$, and therefore\n",
    "the $x$-component of $\\mathbf{F}$ is $F_x=-mg\\sin\\theta\\cos\\theta$. Since $\\tan\\theta=f'(x)$, we can\n",
    "use the identity $1+\\tan^2\\theta=\\sec^2\\theta$ to conclude that\n",
    "\n",
    ">$\\displaystyle F_x=-mg\\sin\\theta\\cos\\theta=-mg\\tan\\theta\\cos^2\\theta=-mg\\frac{f'(x)}{1 +\\left[f'(x)\\right]^2}$"
   ]
  },
  {
   "cell_type": "markdown",
   "metadata": {
    "slideshow": {
     "slide_type": "subslide"
    }
   },
   "source": [
    "A damping force $\\mathbf{D}$, in the direction opposite to the motion, is a constant multiple of the velocitcy \n",
    "of the bead. The $x$-component of $\\mathbf{D}$ is therefore\n",
    "\n",
    ">$\\displaystyle D_x=-\\beta\\frac{dx}{dt}$\n",
    "\n",
    "It follows from Newton's second law that\n",
    "\n",
    ">$\\displaystyle mx''=-mg\\frac{f'(x)}{1 +\\left[f'(x)\\right]^2}-\\beta x'$\n",
    "\n",
    "and the corresponding plane autonomous system is\n",
    "\n",
    ">$\n",
    "\\begin{align*}\n",
    "   x' &= y\\\\ \n",
    "   y' &= -g\\frac{f'(x)}{1 +\\left[f'(x)\\right]^2}-\\frac{\\beta}{m} y\n",
    "\\end{align*}\n",
    "$"
   ]
  },
  {
   "cell_type": "markdown",
   "metadata": {
    "slideshow": {
     "slide_type": "subslide"
    }
   },
   "source": [
    "If $\\mathbf{x}_1=(x_1,y_1)$ is a critical point of the system, $y_1=0$ and therefore $f'(x_1)=0$. \n",
    "The bead must therefore be at rest at a point on the wire where the tangent line is horizontal.\n",
    "When $f$ is twice differentiable, the Jacobian matrix at $\\mathbf{x}_1$ is\n",
    "\n",
    ">$\n",
    "\\mathbf{g}'(\\mathbf{x}_1)=\n",
    "\\begin{pmatrix}\n",
    " 0 & 1\\\\ \n",
    " -g f''(x_1) & -\\frac{\\beta}{m} \n",
    "\\end{pmatrix}\n",
    "$\n",
    "\n",
    "and so \n",
    "\n",
    "$\\begin{align*}\n",
    " \\tau &= \n",
    "-\\beta/m \\\\ \n",
    " \\Delta &= gf''(x_1) \\\\ \n",
    " \\tau^2 -4\\Delta &= \\beta^2/m^2 -4gf''(x_1) \n",
    "\\end{align*}$"
   ]
  },
  {
   "cell_type": "markdown",
   "metadata": {
    "slideshow": {
     "slide_type": "subslide"
    }
   },
   "source": [
    "We can make the following conclusions:\n",
    "\n",
    "* $f''(x_1)<0$ : $\\text{ }$A relative maximum therefore occurs at $x=x_1$,   \n",
    "  and since $\\Delta<0$, an unstable saddle point occurs at $\\mathbf{x}_1=(x_1,0)$  \n",
    "\n",
    "* $f''(x_1)>0$ and $\\beta>0$: $\\text{ }$A relative maximum therefore occurs at $x=x_1$, and since $\\tau<0$ and $\\Delta>0$, $\\mathbf{x}_1=(x_1,0)$ is a stable critical point. \n",
    "\n",
    "  If $\\beta^2 > 4gm^2f''(x_1)$, the system is **overdamped** and the critical point is a stable node. If $\\beta^2 < 4gm^2f''(x_1)$, the system is **underdamped** and the critical point is a stable spiral point. The exact nature of the stable critical point is still in doubt if $\\beta^2 = 4gm^2f''(x_1)$\n",
    "\n",
    "* $f''(x_1)>0$ and the system is undamped ($\\beta=0$):\n",
    "\n",
    "  In this case the eigenvalues are pure imaginary, but the phase-plane method can be used to show that the critical point is a center. Therefore solutions with $\\mathbf{x}(0)=(x(0),x'(0))$ near \n",
    "$\\mathbf{x}_1=(x_1,0)$ are periodic"
   ]
  },
  {
   "cell_type": "markdown",
   "metadata": {
    "slideshow": {
     "slide_type": "subslide"
    }
   },
   "source": [
    "**Example:** $\\text{ }$ A bead is released from the position $x(0)=x_0$ on the curve $z=\\cosh(x)$ with initial velocity $x'(0)=\\nu_0$. Use the phase-plane method to show that the resulting solution is periodic when the system is undamped"
   ]
  },
  {
   "cell_type": "code",
   "execution_count": null,
   "metadata": {
    "cell_style": "split",
    "slideshow": {
     "slide_type": "subslide"
    }
   },
   "outputs": [],
   "source": [
    "w = 10\n",
    "xp = np.linspace(-w, w, 200)\n",
    "yp = np.linspace(-w, w, 200)\n",
    "x, y = np.meshgrid(xp, yp)\n",
    "\n",
    "g = 9.8\n",
    "m = 1\n",
    "beta = [0, 0.25, 0.5]\n",
    "\n",
    "sb_title = [r'$\\beta=0$', r'$\\beta=0.25$', r'$\\beta=0.5$']\n",
    "\n",
    "def df(x):\n",
    "    return np.sinh(x)"
   ]
  },
  {
   "cell_type": "code",
   "execution_count": null,
   "metadata": {
    "cell_style": "split",
    "slideshow": {
     "slide_type": "fragment"
    }
   },
   "outputs": [],
   "source": [
    "fig = plt.figure(figsize=(15, 5))\n",
    "\n",
    "for i in range(3):\n",
    "    \n",
    "    xdot = y\n",
    "    ydot = -g*df(x)/(1 +df(x)**2) -beta[i]/m*y\n",
    "\n",
    "    ax = fig.add_subplot(1, 3, i +1)\n",
    "    ax.streamplot(x, y, xdot, ydot, density = 1.5, \n",
    "                  linewidth = 0.5, color='blue')\n",
    "\n",
    "    ax.set_title(sb_title[i])\n",
    "\n",
    "    ax.axis((-w, w, -w, w))\n",
    "    ax.set_aspect(aspect='equal')\n",
    "    ax.grid()\n",
    "    \n",
    "    ax.tick_params(axis='both', direction='in', pad=5)     \n",
    "    ax.xaxis.set_ticks(np.linspace(-w, w, 5))\n",
    "    ax.set_xlabel(r'$x$')\n",
    "    ax.yaxis.set_ticks(np.linspace(-w, w, 5))\n",
    "    if i == 0:\n",
    "        ax.set_ylabel(r'$y$')\n",
    "    \n",
    "plt.show()"
   ]
  },
  {
   "cell_type": "markdown",
   "metadata": {
    "slideshow": {
     "slide_type": "subslide"
    }
   },
   "source": [
    "#### Lotka-Volterra Predator-Prey Model\n",
    "\n",
    "There are many predator-prey models that lead to plane autonomous systems with at least one periodic solution.\n",
    "The first such model was constructed independently by pioneer biomathematicians A. Lotka (1925) and\n",
    "V. Volterra (1926). If $x$ denotes the number of predators and $y$ denotes the number of prey, then\n",
    "the Lotka-Volterra model takes the form\n",
    "\n",
    ">$\n",
    "\\begin{align*}\n",
    " x' &= -ax +bxy = x(-a +by)\\\\ \n",
    " y' &= -cxy +dy = y(-cx +d)\n",
    "\\end{align*}\n",
    "$\n",
    "\n",
    "where $a$, $b$, $c$, and $d$ are positive constants. The critical points of this plane autonomous system are\n",
    "$(0,0)$ and $(d/c,a/b)$, and the corresponding Jocobian matrices are\n",
    "\n",
    ">$\n",
    "\\mathbf{A}_1 = \\mathbf{g}'\\left((0,0)\\right)=\n",
    "{\\scriptsize\\begin{pmatrix} -a & 0 \\\\ 0 & d \\end{pmatrix}} \\;\\;\\text{ and }\\;\\;\n",
    "\\mathbf{A}_2 = \\mathbf{g}'\\left((d/c,a/b)\\right)=\n",
    "{\\scriptsize\\begin{pmatrix} 0 & bd/c \\\\ -ac/b & 0 \\end{pmatrix} }\n",
    "$"
   ]
  },
  {
   "cell_type": "markdown",
   "metadata": {
    "slideshow": {
     "slide_type": "subslide"
    }
   },
   "source": [
    "The critical point $(0,0)$ is a saddle point. Since $\\mathbf{A}_2$ has pure imaginary eigenvalues \n",
    "$\\lambda=\\pm i\\sqrt{ad}$, the critical point $(d/c,a/b)$ may be a center. This possibility can be\n",
    "investigated using the phase-plane method. Since\n",
    "\n",
    ">$\\displaystyle\\frac{dy}{dx}=\\frac{y(-cx +d)}{x(-a +by)}$\n",
    "\n",
    "we may separate variables and obtain\n",
    "\n",
    ">$\\displaystyle \\int\\frac{-a +by}{y}\\,dy=\\int\\frac{-cx +d}{x}\\,dx$\n",
    "\n",
    "so that\n",
    "\n",
    ">$\\left(x^d e^{-cx}\\right)\\left(y^a e^{-by}\\right)=F(x)G(y)=c_0$"
   ]
  },
  {
   "cell_type": "markdown",
   "metadata": {
    "slideshow": {
     "slide_type": "subslide"
    }
   },
   "source": [
    "Typical graphs of the nonnegative functions $F(x)=x^d e^{-cx}$ and $G(y)=y^a e^{-by}$ are shown in\n",
    "\n",
    "<img src=\"figures/ch11_figure07.png\" width=\"650\">\n",
    "\n",
    "It is not hard to show that $F(x)$ has an absolute maximum at $x=d/c$, whereas $G(y)$ has an absolute maximum\n",
    "at $y=a/b$. These graphs can be used to establish the following properties of a solution curve that orginates at\n",
    "a noncritical point $(x_0,y_0)$ in the first quadrant\n",
    "\n",
    "* If $y=a/b$, $F(x)G(a/b)=c_0$ has two solutions $x_m$ and $x_M$ that satisfy $x_m<d/c<x_M$\n",
    "\n",
    "* If $x_m<x_1<x_M$ and $x=x_1$, then $F(x_1)G(y)=c_0$ has exactly two solutions $y_1$ and $y_2$ that\n",
    "    satisfy $y_1<a/b<y_2$\n",
    "\n",
    "* If $x$ is outside the interval $[x_m,x_M]$, then $F(x)G(y)=c_0$ has no solutions"
   ]
  },
  {
   "cell_type": "markdown",
   "metadata": {
    "slideshow": {
     "slide_type": "subslide"
    }
   },
   "source": [
    "**Example:** $\\text{ }$If we let $a=0.1$, $b=0.002$, $c=0.0025$, and $d=0.2$ in the Lotka-Volterra predator-prey model, the critical point in the first quadrant is $(d/c,a/b)=(80,50)$, and we know that this critical point is a center. The eigenvalues of $\\mathbf{g}'((80,50))$ are $\\lambda=\\pm(\\sqrt{2}/10)i$, and so the solutions near the critical point have period $p\\simeq 10\\sqrt{2}\\pi$"
   ]
  },
  {
   "cell_type": "code",
   "execution_count": null,
   "metadata": {
    "slideshow": {
     "slide_type": "fragment"
    }
   },
   "outputs": [],
   "source": [
    "a = 0.1\n",
    "b = 0.002\n",
    "c = 0.0025\n",
    "d = 0.2\n",
    "\n",
    "def myODE(t, y):\n",
    "    return [-a*y[0] +b*y[0]*y[1], -c*y[0]*y[1] +d*y[1]]"
   ]
  },
  {
   "cell_type": "code",
   "execution_count": null,
   "metadata": {
    "slideshow": {
     "slide_type": "subslide"
    }
   },
   "outputs": [],
   "source": [
    "fig, ax = plt.subplots(figsize=(6, 6))\n",
    "\n",
    "td = 80\n",
    "x0 = 0\n",
    "y0 = 50\n",
    "for i in range(15):\n",
    "    x0 = x0 +5\n",
    "    sol = solve_ivp(myODE, [0, td], [x0, y0], t_eval = np.linspace(0, td, 300))    \n",
    "    ax.plot(x0, y0, 'ro')\n",
    "    ax.plot(sol.y[0], sol.y[1], 'b-', linewidth = 1)\n",
    "    \n",
    "ax.set_title('Lotka-Volterra model')\n",
    "\n",
    "w = 400\n",
    "ax.axis((0, w, 0, w))\n",
    "ax.set_aspect(aspect='equal')\n",
    "ax.grid()\n",
    "   \n",
    "ax.tick_params(axis='both', direction='in', pad=5)     \n",
    "ax.xaxis.set_ticks(np.linspace(0, w, 5))\n",
    "ax.set_xlabel(r'$x$, predator')\n",
    "ax.yaxis.set_ticks(np.linspace(0, w, 5))\n",
    "ax.set_ylabel(r'$y$, prey')\n",
    "plt.show()"
   ]
  },
  {
   "cell_type": "markdown",
   "metadata": {
    "slideshow": {
     "slide_type": "subslide"
    }
   },
   "source": [
    "#### Lotka-Volterra Competition Model\n",
    "\n",
    "A **competitive interaction** occurs when two or more species compete for the food, water, light, and species\n",
    "resources of an ecosystem. A number of mathematical models have been constructed that offer insights into conditions that permit *coexistence*. If $x$ denotes the number in species I and $y$ denotes the number in species II, then the Lotka-Volterra model takes the form\n",
    "\n",
    ">$\n",
    "\\begin{align*}\n",
    " x' &= \\frac{r_1}{K_1} x(K_1 -x -\\alpha_{12}y)\\\\ \n",
    " y' &= \\frac{r_2}{K_2} y(K_2 -y -\\alpha_{21}x)\n",
    "\\end{align*}\n",
    "$\n",
    "\n",
    "Note that in the absence of species II ($y=0$), $x'=(r_1/K_1)x(K_1 -x)$, and so the first population grows logistically and approaches the steady-state population $K_1$. A similar statement holds for species II growing in the absence of speices I. The term $-\\alpha_{21}xy$ in the second equation stems from the competitive effect\n",
    "of species I on species II. The model therefore assumes that this rate of inhibition is directly proportional to\n",
    "the number of possible competitive pairs $xy$ at a particular $t$"
   ]
  },
  {
   "cell_type": "markdown",
   "metadata": {
    "slideshow": {
     "slide_type": "subslide"
    }
   },
   "source": [
    "This plane autonomous system has critical points at $(0,0)$, $(K_1,0)$, and $(0,K_2)$. When \n",
    "$\\alpha_{12}\\alpha_{21}\\neq 0$, the lines $K_1 -x -\\alpha_{12}y=0$ and $K_2 -y -\\alpha_{21}x=0$ intersect to\n",
    "produce a fourth critical point $\\hat{\\mathbf{x}}=(\\hat{x},\\hat{y})$\n",
    "\n",
    ">$\\displaystyle \\hat{x}=\\frac{K_1 -\\alpha_{12}K_2}{1 -\\alpha_{12}\\alpha_{21}},\\;\n",
    "  \\hat{y}=\\frac{K_2 -\\alpha_{21}K_1}{1 -\\alpha_{12}\\alpha_{21}}$"
   ]
  },
  {
   "cell_type": "markdown",
   "metadata": {
    "slideshow": {
     "slide_type": "fragment"
    }
   },
   "source": [
    "**Example:** A competitive interaction is described by the Lotka-Volterra competition model\n",
    "\n",
    ">$\n",
    "\\begin{align*}\n",
    " x' &= 0.004 x\\,(50 -x -0.75y)\\\\ \n",
    " y' &= 0.001 y\\,(100 -y -3.0x)\n",
    "\\end{align*}\n",
    "$\n",
    "\n",
    "Find and classify all critical points of the system"
   ]
  },
  {
   "cell_type": "code",
   "execution_count": null,
   "metadata": {
    "cell_style": "split",
    "slideshow": {
     "slide_type": "subslide"
    }
   },
   "outputs": [],
   "source": [
    "w = 120\n",
    "xp = np.linspace(0, w, 200)\n",
    "yp = np.linspace(0, w, 200)\n",
    "x, y = np.meshgrid(xp, yp)\n",
    "\n",
    "r1_K1 = 0.004\n",
    "r2_K2 = 0.001\n",
    "K1 = 50\n",
    "K2 = 100\n",
    "a_12 = np.array([0.75, 0.4])\n",
    "a_21 = np.array([3.00, 1.5])"
   ]
  },
  {
   "cell_type": "code",
   "execution_count": null,
   "metadata": {
    "cell_style": "split",
    "slideshow": {
     "slide_type": "fragment"
    }
   },
   "outputs": [],
   "source": [
    "fig = plt.figure(figsize=(12, 6))\n",
    "\n",
    "for i in range(2):\n",
    "    \n",
    "    ax = fig.add_subplot(1, 2, i +1)\n",
    "    \n",
    "    xdot = r1_K1*x*(K1 -x -a_12[i]*y)\n",
    "    ydot = r2_K2*y*(K2 -y -a_21[i]*x)\n",
    "\n",
    "    cpt_x = np.array([0, K1, 0, (K1 -a_12[i]*K2)\n",
    "                      /(1 -a_12[i]*a_21[i])])\n",
    "    cpt_y = np.array([0, 0, K2, (K2 -a_21[i]*K1)\n",
    "                      /(1 -a_12[i]*a_21[i])])\n",
    "\n",
    "    ax.streamplot(x, y, xdot, ydot, density=1.5, \n",
    "                  linewidth=0.5, color='blue')\n",
    "    ax.plot(cpt_x, cpt_y, 'ro')\n",
    "    ax.set_title(r'$\\alpha_{12}=$' +str(a_12[i]) \n",
    "                 +r'$, \\alpha_{21}=$' +str(a_21[i]))\n",
    "    ax.axis((0, w, 0, w))\n",
    "    ax.set_aspect(aspect='equal')\n",
    "    ax.grid()\n",
    "    \n",
    "    ax.tick_params(axis='both', direction='in', pad=5)     \n",
    "    ax.xaxis.set_ticks(np.linspace(0, w, 4))\n",
    "    ax.set_xlabel(r'$x$')\n",
    "    ax.yaxis.set_ticks(np.linspace(0, w, 4))\n",
    "    ax.set_ylabel(r'$y$')\n",
    "    \n",
    "plt.show()"
   ]
  },
  {
   "cell_type": "markdown",
   "metadata": {
    "slideshow": {
     "slide_type": "subslide"
    }
   },
   "source": [
    "### Exercises 11.4\n",
    "\n",
    "* 20, 21"
   ]
  },
  {
   "cell_type": "markdown",
   "metadata": {
    "slideshow": {
     "slide_type": "slide"
    }
   },
   "source": [
    "## 11.5 Periodic Solutions, Limit Cycles, and Global Stability\n",
    "\n",
    "In this section, we will investigate the existence of periodic solutions of nonlinear plane autonomous systems\n",
    "and introduce special periodic solutions called **limit cycles**\n",
    "\n",
    "An analysis of critical points using linearization can provide valuable information on the behavior of solutions\n",
    "near critical points and insight into a variety of biological and physical phenomena. However there are some\n",
    "inherent limitations to this approach. When the eigenvalues of the Jacobian matrix are pure imaginary,\n",
    "we cannot conclude that there are periodic solutions near the critical point\n",
    "\n",
    "The first goal of this section is *to determine conditions under which we can either exclude the possibility\n",
    "of periodic solutions or assert their existence*\n",
    "\n",
    "A second goal is *to determine conditions under which an asymptotically stable critical point is globally \n",
    "stable*: $\\lim_{t \\to \\infty}\\mathbf{x}(t)=\\mathbf{x}_1$ for all initial conditions in \n",
    "a simply connected region $\\mathbb{R}$"
   ]
  },
  {
   "cell_type": "markdown",
   "metadata": {
    "slideshow": {
     "slide_type": "subslide"
    }
   },
   "source": [
    "#### **Negative Criteria**\n",
    "\n",
    "**Theorem** If a plane autonomous system has a periodic solution $\\mathbf{x}=\\mathbf{x}(t)$ in a simply \n",
    "connected region $\\mathbb{R}$, then the system has at least one critical point inside the corresponding\n",
    "simple closed curve $C$. If there is a single critical point inside $C$, then that critical point cannot be a \n",
    "saddle point\n",
    "\n",
    "**Corollary** If a simply connected region $\\mathbb{R}$ either contains no critical points of a plane autonomous\n",
    "system or contains a single saddle point, then there are no periodic solutions in $\\mathbb{R}$"
   ]
  },
  {
   "cell_type": "markdown",
   "metadata": {
    "slideshow": {
     "slide_type": "subslide"
    }
   },
   "source": [
    "**Example:** $\\text{ }$Show that the Lotka-Volterra competition model\n",
    "\n",
    ">$\n",
    "\\begin{align*}\n",
    " x' &= 0.004 x\\,(50 -x -0.75y)\\\\ \n",
    " y' &= 0.001 y\\,(100 -y -3.0x)\n",
    "\\end{align*}\n",
    "$\n",
    "\n",
    "has no periodic solutions in the first quadrant"
   ]
  },
  {
   "cell_type": "markdown",
   "metadata": {
    "slideshow": {
     "slide_type": "subslide"
    }
   },
   "source": [
    "Another sometimes useful result can be formulated in terms of the divergence of the vector field \n",
    "\n",
    "> $\\mathbf{v}(x,y)=\\left(P(x,y), Q(x,y)\\right)$\n",
    "\n",
    "**Bendixson Negative Criterion**\n",
    "\n",
    "If $\\displaystyle\\mathrm{div}\\,\\mathbf{v}=\\frac{\\partial P}{\\partial x} +\\frac{\\partial Q}{\\partial y}$ does not\n",
    "change sign in a simply connected region $\\mathbb{R}$, then the plane autonomous system has no periodic solutions\n",
    "in $\\mathbb{R}$"
   ]
  },
  {
   "cell_type": "markdown",
   "metadata": {
    "slideshow": {
     "slide_type": "fragment"
    }
   },
   "source": [
    "**Proof** $\\text{ }$Suppose, to the contrary, that there is a periodic solution $\\mathbf{x}=\\mathbf{x}(t)$ in $\\mathbb{R}$, and let $C$ be the resulting simple closed curve and $R_1$ the region bounded by $C$. By using Green's theorem, we obtain\n",
    "\n",
    ">$\\displaystyle\\int_C -Q(x,y)\\,dx +P(x,y)\\,dy=\\iint_{R_1} \n",
    "    \\left(\\frac{\\partial P}{\\partial x} +\\frac{\\partial Q}{\\partial y}\\right)\\, dxdy$"
   ]
  },
  {
   "cell_type": "markdown",
   "metadata": {
    "slideshow": {
     "slide_type": "subslide"
    }
   },
   "source": [
    "Since $\\mathbf{x}=\\mathbf{x}(t)$ is a solution with period $p$, we have $x'(t)=P(x(t),y(t))$ and\n",
    "$y'(t)=Q(x(t),y(t))$, and so\n",
    "\n",
    ">$\n",
    "\\begin{align*}\n",
    " \\int_C -Q(x,y)\\,dx +P(x,y)\\,dy &= \\int_0^p \\left[-Q(x(t),y(t))\\,x'(t) +P(x(t),y(t))\\,y'(t) \\right]\\,dt\\\\ \n",
    "   &= \\int_0^p -QP +PQ \\,dt = 0\n",
    "\\end{align*}\n",
    "$\n",
    "\n",
    "Since $\\displaystyle\\mathrm{div}\\,\\mathbf{v}=\\frac{\\partial P}{\\partial x} +\\frac{\\partial Q}{\\partial y}$ is\n",
    "continuous and does not change sign in $\\mathbb{R}$, it follows that either $\\mathrm{det}\\,\\mathbf{v}\\geq 0$\n",
    "or $\\mathrm{det}\\,\\mathbf{v}\\leq 0$ in $\\mathbb{R}$, and so\n",
    "\n",
    ">$\\displaystyle\n",
    "  \\iint_{R_1} \\left(\\frac{\\partial P}{\\partial x} +\\frac{\\partial Q}{\\partial y}\\right)\\, dxdy \\neq 0\n",
    "$\n",
    "\n",
    "This contradiction establishes that there are no periodic solutions in $\\mathbb{R}$"
   ]
  },
  {
   "cell_type": "markdown",
   "metadata": {
    "slideshow": {
     "slide_type": "subslide"
    }
   },
   "source": [
    "**Example:** $\\text{ }$The sliding bead satisfies the differential equation\n",
    "\n",
    ">$\\displaystyle mx''=-mg\\frac{f'(x)}{1 +\\left[f'(x)\\right]^2}-\\beta x'$\n",
    "\n",
    "Show that there are no periodic solutions"
   ]
  },
  {
   "cell_type": "markdown",
   "metadata": {
    "slideshow": {
     "slide_type": "fragment"
    }
   },
   "source": [
    "**Solution** The corresponding plane autonomous system is\n",
    "\n",
    ">$\\scriptsize\n",
    "\\begin{align*}\n",
    "   x' &= y\\\\ \n",
    "   y' &= -g\\frac{f'(x)}{1 +\\left[f'(x)\\right]^2}-\\frac{\\beta}{m} y\n",
    "\\end{align*}\n",
    "$\n",
    "\n",
    "and so $\\scriptsize\\displaystyle\n",
    "  \\mathrm{div}\\,\\mathbf{v}=\\frac{\\partial P}{\\partial x} +\\frac{\\partial Q}{\\partial y}=-\\frac{\\beta}{m}<0$"
   ]
  },
  {
   "cell_type": "markdown",
   "metadata": {
    "slideshow": {
     "slide_type": "subslide"
    }
   },
   "source": [
    "**Dulac Negative Criterion**\n",
    "\n",
    "If $\\delta(x,y)$ has continuous first partial derivatives in a simply connected region $\\mathbb{R}$ and\n",
    "$\\displaystyle \\frac{\\partial (\\delta P)}{\\partial x} +\\frac{\\partial (\\delta Q)}{\\partial y}$ does not\n",
    "change sign in $\\mathbb{R}$, then the plane autonomous system has no periodic solutions in $\\mathbb{R}$"
   ]
  },
  {
   "cell_type": "markdown",
   "metadata": {
    "slideshow": {
     "slide_type": "subslide"
    }
   },
   "source": [
    "**Example:** Use $\\delta(x,y)=1/(xy)$ to show that the Lotka-Volterra competition equations\n",
    "\n",
    ">$\n",
    "\\begin{align*}\n",
    " x' &= \\frac{r_1}{K_1} x(K_1 -x -\\alpha_{12}y)\\\\ \n",
    " y' &= \\frac{r_2}{K_2} y(K_2 -y -\\alpha_{21}x)\n",
    "\\end{align*}\n",
    "$\n",
    "\n",
    "have no periodic solutions in the first quadrant"
   ]
  },
  {
   "cell_type": "markdown",
   "metadata": {
    "slideshow": {
     "slide_type": "fragment"
    }
   },
   "source": [
    "**Solution** If $\\delta(x,y)=1/(xy)$, then\n",
    "\n",
    ">$\\displaystyle\\frac{\\partial (\\delta P)}{\\partial x} +\\frac{\\partial (\\delta Q)}{\\partial y}=\n",
    "  \\frac{r_1}{K_1}\\left(-\\frac{1}{y}\\right) +\\frac{r_2}{K_2}\\left(-\\frac{1}{x}\\right) <0$\n",
    "\n",
    "in the first quadrant"
   ]
  },
  {
   "cell_type": "markdown",
   "metadata": {
    "slideshow": {
     "slide_type": "subslide"
    }
   },
   "source": [
    "#### **Positive Criteria**\n",
    "\n",
    "A region $\\mathbb{R}$ is called an **invariant region** for a plane autonomous system if, whenever $\\mathbf{x}_0$\n",
    "is in $\\mathbb{R}$, the solution $\\mathbf{x}=\\mathbf{x}(t)$ remains in $\\mathbb{R}$. If\n",
    "$\\mathbf{n}(x,y)$ denotes a normal vector on the boundary that points inside the region, then $\\mathbb{R}$ will\n",
    "be an invariant region for the plane autonomous system provided $\\mathbf{v}(x,y)\\cdot\\mathbf{n}(x,y)\\geq 0$\n",
    "for all points $(x,y)$ in the boundary\n",
    "\n",
    "<img src=\"figures/ch11_figure08.png\" width=\"380\">"
   ]
  },
  {
   "cell_type": "markdown",
   "metadata": {
    "slideshow": {
     "slide_type": "subslide"
    }
   },
   "source": [
    "**Poincar$\\acute{\\textbf{e}}$-Benedixon I**\n",
    "\n",
    "Let $\\mathbb{R}$ be an invariant region for a plane autonomous system and suppose that $\\mathbb{R}$ has no\n",
    "critical points on its boundary\n",
    "\n",
    "> (a) $\\text{ }$ If $\\mathbb{R}$ is a type I region that has a single unstable node or an unstable spiral point in its interior, then there is at least one periodic solution in $\\mathbb{R}$\n",
    "\n",
    "> (b) $\\text{ }$ If $\\mathbb{R}$ is a type II region that contains no critical points of the system, \n",
    "   then there is at least one periodic solution in $\\mathbb{R}$\n",
    "    \n",
    "In either of the two cases, if $\\mathbf{x}=\\mathbf{x}(0)$ is a nonperiodic solution in $\\mathbb{R}$, then\n",
    "$\\mathbf{x}(t)$ spirals toward a cycle that is a solution to the system. This periodic solution is called\n",
    "a **limit cycle**"
   ]
  },
  {
   "cell_type": "markdown",
   "metadata": {
    "slideshow": {
     "slide_type": "subslide"
    }
   },
   "source": [
    "**Example:** $\\text{ }$The Van der Pol equation is a nonlinear second-order differential equation that arises in electronics, and as a plane autonomous system it takes the form\n",
    "\n",
    ">$\\begin{align*}\n",
    " x' &= y\\\\ \n",
    " y' &= -\\mu (x^2 -1)y -x\n",
    "\\end{align*}$\n",
    "\n",
    "Show that the Van der Pol DE has a periodic solution when $\\mu>0$"
   ]
  },
  {
   "cell_type": "code",
   "execution_count": null,
   "metadata": {
    "slideshow": {
     "slide_type": "subslide"
    }
   },
   "outputs": [],
   "source": [
    "w = 3\n",
    "xp = np.linspace(-w, w, 100)\n",
    "yp = np.linspace(-w, w, 100)\n",
    "x, y = np.meshgrid(xp, yp)\n",
    "\n",
    "fig = plt.figure(figsize=(10, 5))\n",
    "\n",
    "mu = np.array([1, 3])\n",
    "vdp_title = [r'$\\mu=1$', r'$\\mu=3$']\n",
    "\n",
    "for i in range(2):\n",
    "    \n",
    "    ax = fig.add_subplot(1, 2, i +1)\n",
    "    \n",
    "    xdot = y\n",
    "    ydot = -mu[i]*(x*x -1)*y -x\n",
    "\n",
    "    ax.streamplot(x, y, xdot, ydot, density = 1.5, linewidth = 0.5, color='blue')\n",
    "    ax.set_title(vdp_title[i])\n",
    "\n",
    "    ax.axis((-w, w, -w, w))\n",
    "    ax.set_aspect(aspect='equal')\n",
    "    ax.grid()\n",
    "    \n",
    "    ax.tick_params(axis='both', direction='in', pad=5)     \n",
    "    ax.xaxis.set_ticks(np.linspace(-w, w, 4))\n",
    "    ax.set_xlabel(r'$x$')\n",
    "    ax.yaxis.set_ticks(np.linspace(-w, w, 4))\n",
    "    ax.set_ylabel(r'$y$')\n",
    "    \n",
    "plt.show()"
   ]
  },
  {
   "cell_type": "markdown",
   "metadata": {
    "slideshow": {
     "slide_type": "subslide"
    }
   },
   "source": [
    "We will assumme that there is a Type I invariant region $\\mathbb{R}$ for the corresponding plane autonomous system and that this region contains $(0,0)$ in its interior. The only critical point is $(0,0)$, and the Jacobian matrix is given by\n",
    "\n",
    ">$\n",
    "\\mathbf{g}'((0,0))=\n",
    "\\begin{pmatrix}\n",
    " \\;\\;0 & 1\\\\ \n",
    " -1 & \\mu\n",
    "\\end{pmatrix}\n",
    "$\n",
    "\n",
    "Therefore, $\\tau=\\mu$, $\\Delta=1$, and $\\tau^2 -4\\Delta=\\mu^2-4$. Since $\\mu >0$, the critical point is either\n",
    "an unstable spiral point or an unstable node. By part (a) of **Poincar$\\acute{\\textbf{e}}$-Benedixon I**, \n",
    "the system has at least one periodic solution in $\\mathbb{R}$."
   ]
  },
  {
   "cell_type": "code",
   "execution_count": null,
   "metadata": {
    "slideshow": {
     "slide_type": "subslide"
    }
   },
   "outputs": [],
   "source": [
    "td = 15\n",
    "w = 5\n",
    "mu_ = np.array([1, 2.5])\n",
    "x0 = np.array([[0.5, 0.5], [3, 3], [-3,-3], [0, 0.1]])\n",
    "\n",
    "def myODE(t, y):\n",
    "    return [y[1], -mu*(y[0]*y[0] -1)*y[1] -y[0]]\n",
    "\n",
    "vdp_title = [r'$\\mu=1$', r'$\\mu=2.5$']\n",
    "vdp_line = ['b:', 'r:', 'k:', 'g:']"
   ]
  },
  {
   "cell_type": "code",
   "execution_count": null,
   "metadata": {
    "slideshow": {
     "slide_type": "subslide"
    }
   },
   "outputs": [],
   "source": [
    "\n",
    "fig = plt.figure(figsize=(10, 5))\n",
    "\n",
    "for i in range(2):\n",
    "\n",
    "    ax = fig.add_subplot(1, 2, i +1)\n",
    "    \n",
    "    mu = mu_[i]\n",
    "    for j in range(4):\n",
    "        y0 = x0[j]\n",
    "        sol = solve_ivp(myODE, [0, td], y0, t_eval = np.linspace(0, td, 500))    \n",
    "        ax.plot(sol.y[0], sol.y[1], vdp_line[j], linewidth = 1)\n",
    "        ax.plot(y0[0], y0[1], 'ro')\n",
    "    \n",
    "    ax.set_title(vdp_title[i])\n",
    "\n",
    "    ax.axis((-w, w, -w, w))\n",
    "    ax.set_aspect(aspect='equal')\n",
    "    ax.grid()\n",
    "    \n",
    "    ax.tick_params(axis='both', direction='in', pad=5)     \n",
    "    ax.xaxis.set_ticks(np.linspace(-w, w, 4))\n",
    "    ax.set_xlabel(r'$x$')\n",
    "    ax.yaxis.set_ticks(np.linspace(-w, w, 4))\n",
    "    ax.set_ylabel(r'$y$')\n",
    "    \n",
    "plt.show()"
   ]
  },
  {
   "cell_type": "markdown",
   "metadata": {
    "slideshow": {
     "slide_type": "subslide"
    }
   },
   "source": [
    "**Poincar$\\acute{\\textbf{e}}$-Benedixon II**\n",
    "\n",
    "Let $\\mathbb{R}$ be a type I invariant region for a plane autonomous system that has no periodic solutions in\n",
    "$\\mathbb{R}$\n",
    "\n",
    "(a) If $\\mathbb{R}$ has a finite number of nodes or spiral points,\n",
    "    then given any initial position $\\mathbf{x}_0$ in $\\mathbb{R}$, $\\lim_{t \\to \\infty} \\mathbf{x}(t)=\\mathbf{x}_1$ for some critical point $\\mathbf{x}_1$\n",
    "\n",
    "(b) If $\\mathbb{R}$ has a single stable node or stable spiral point $\\mathbf{x}_1$ in its interior and no\n",
    "    critical points on its boundary, then $\\lim_{t \\to \\infty} \\mathbf{x}(t)=\\mathbf{x}_1$\n",
    "    for all initial positions $\\mathbf{x}_0$ in $\\mathbb{R}$: **globally stable**\n"
   ]
  },
  {
   "cell_type": "markdown",
   "metadata": {
    "slideshow": {
     "slide_type": "subslide"
    }
   },
   "source": [
    "**Example:** $\\text{ }$Empirical evidence suggests that the plane autonomous system\n",
    "\n",
    ">$\n",
    "\\begin{align*}\n",
    " x' &= x^2y -x +1\\\\ \n",
    " y' &= -x^2y +\\frac{1}{2} \n",
    "\\end{align*}\n",
    "$\n",
    "\n",
    "has a type I invariant region $\\mathbb{R}$ that lies inside the reactangle defined by $0\\leq x \\leq 2$, $0 \\leq y \\leq 1$\n",
    "\n",
    "(a) Use the Benedixson negative criterion to show that there are no periodic solutions in R\n",
    "\n",
    "(b) If $\\mathbf{x}_0$ is in $\\mathbb{R}$ and $\\mathbf{x}=\\mathbf{x}(t)$ is the solution satisfying \n",
    "$\\mathbf{x}(t)=\\mathbf{x}_0$, use **Poincar$\\acute{\\textbf{e}}$-Benedixon II** to find $\\lim_{t \\to \\infty}\\mathbf{x}(t)$ "
   ]
  },
  {
   "cell_type": "markdown",
   "metadata": {
    "slideshow": {
     "slide_type": "subslide"
    }
   },
   "source": [
    "### Exercises 11.5\n",
    "\n",
    "* 1, 3, 5\n",
    "* 9, 15, 18, 19, 22"
   ]
  }
 ],
 "metadata": {
  "celltoolbar": "Slideshow",
  "kernelspec": {
   "display_name": "Python 3",
   "language": "python",
   "name": "python3"
  },
  "language_info": {
   "codemirror_mode": {
    "name": "ipython",
    "version": 3
   },
   "file_extension": ".py",
   "mimetype": "text/x-python",
   "name": "python",
   "nbconvert_exporter": "python",
   "pygments_lexer": "ipython3",
   "version": "3.8.8"
  }
 },
 "nbformat": 4,
 "nbformat_minor": 2
}
