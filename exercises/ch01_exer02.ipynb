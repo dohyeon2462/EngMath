{
 "cells": [
  {
   "cell_type": "markdown",
   "metadata": {},
   "source": [
    "[![Open In Colab](https://colab.research.google.com/assets/colab-badge.svg)](https://colab.research.google.com/github/SeoulTechPSE/EngMath/blob/master/exercises/ch01_exer02.ipynb)"
   ]
  },
  {
   "cell_type": "markdown",
   "metadata": {},
   "source": [
    "**1.** $y=1/(1 +c_1 e^{-x})$ is a one-parameter family of solutions of the first-order DE $y'=y -y^2$. Find a solution of the first-order IVP consisting of this differential equation and the given initial condition:\n",
    "\n",
    ">$y(0)=-\\frac{1}{3}$\n",
    "\n",
    "$\\text{ }$ **solution**\n",
    "\n",
    ">$\\begin{align*}\n",
    " y &= \\frac{1}{1 +c_1 e^{-x}}\\\\ \n",
    " &\\Downarrow {\\scriptstyle \\text{at } x = 0}\\\\ \n",
    " -\\frac{1}{3} &= \\frac{1}{1 +c_1} \\\\\n",
    " &\\Downarrow \\\\\n",
    " c_1 &= -4 \\\\\n",
    " &\\Downarrow \\\\ \n",
    " y &= \\frac{1}{1 -4 e^{-x}}\n",
    "\\end{align*}$"
   ]
  },
  {
   "cell_type": "markdown",
   "metadata": {},
   "source": [
    "**3.** $y=1/(x^2 +c)$ is a one-parameter family of solutions of the first-order DE $y' +2xy^2=0$. Find a solution of the first-order IVP consisting of this differential equation and the given initial condition. Give the largest interval $I$ over which the solution is defined\n",
    "\n",
    ">$y(2)=\\frac{1}{3}$\n",
    "\n",
    "$\\text{ }$ **solution**\n",
    "\n",
    ">$\\begin{align*}\n",
    " y &= \\frac{1}{x^2 +c}\\\\ \n",
    " &\\Downarrow {\\scriptstyle \\text{at } x = 2}\\\\ \n",
    " \\frac{1}{3} &= \\frac{1}{4 +c} \\\\\n",
    " &\\Downarrow \\\\ \n",
    " c = -1 \\, &, \\;\\; I =(1,\\infty) \\\\\n",
    " &\\Downarrow \\\\ \n",
    " y &= \\frac{1}{x^2 -1} \n",
    "\\end{align*}$"
   ]
  },
  {
   "cell_type": "code",
   "execution_count": 1,
   "metadata": {},
   "outputs": [
    {
     "data": {
      "image/png": "[encoded data removed]",
      "text/plain": [
       "<Figure size 432x288 with 1 Axes>"
      ]
     },
     "metadata": {
      "needs_background": "light"
     },
     "output_type": "display_data"
    }
   ],
   "source": [
    "%matplotlib inline\n",
    "import numpy as np\n",
    "import matplotlib.pyplot as plt\n",
    "\n",
    "x = np.linspace(-5, 5, 200)\n",
    "y = 1.0 /(x**2 -1)\n",
    "\n",
    "threshold = 20\n",
    "y[y > threshold] = np.inf\n",
    "y[y <-threshold] = np.inf\n",
    "\n",
    "plt.plot(x,y)\n",
    "plt.scatter(2, 1/3, color='red')\n",
    "\n",
    "plt.title(r'$y=\\frac{1}{x^2 -1}$')\n",
    "plt.xlabel('$x$')\n",
    "plt.ylabel('$y$')\n",
    "plt.grid()\n",
    "#plt.show()"
   ]
  },
  {
   "cell_type": "markdown",
   "metadata": {},
   "source": [
    "**7.** $x(t)=c_1\\cos t +c_2\\sin t$ is a two-parameter family of solutions of the second-order DE $x''+x=0$. Find a solution of the second-order IVP consisting of this differential equation and the given initial conditions.\n",
    "\n",
    ">$x(0)=-1, \\; x'(0)=8$\n",
    "\n",
    "$\\text{ }$ **solution**\n",
    "\n",
    ">$\\begin{align*}\n",
    " x(t) &= c_1\\cos t +c_2\\sin t \\\\ \n",
    " &\\Downarrow \\;{\\scriptstyle x(0)=-1, \\; x'(0)=8}\\\\ \n",
    " -1 &= c_1 \\\\\n",
    "  8 &= c_2 \\\\\n",
    " &\\Downarrow \\\\\n",
    " x(t) &= -\\cos t +8\\sin t\n",
    "\\end{align*}$"
   ]
  }
 ],
 "metadata": {
  "kernelspec": {
   "display_name": "Python 3",
   "language": "python",
   "name": "python3"
  },
  "language_info": {
   "codemirror_mode": {
    "name": "ipython",
    "version": 3
   },
   "file_extension": ".py",
   "mimetype": "text/x-python",
   "name": "python",
   "nbconvert_exporter": "python",
   "pygments_lexer": "ipython3",
   "version": "3.8.5"
  }
 },
 "nbformat": 4,
 "nbformat_minor": 4
}
